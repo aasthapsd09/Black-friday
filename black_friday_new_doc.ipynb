{
 "cells": [
  {
   "cell_type": "code",
   "execution_count": 121,
   "id": "e056c06b",
   "metadata": {},
   "outputs": [],
   "source": [
    "import os \n",
    "import pandas as pd \n",
    "import numpy as np \n",
    "import matplotlib.pyplot as plt \n",
    "from sklearn.model_selection import train_test_split\n",
    "from sklearn import metrics \n",
    "from sklearn import metrics\n",
    "from sklearn.tree import DecisionTreeClassifier \n",
    "from sklearn.model_selection import GridSearchCV\n",
    "import seaborn as sns"
   ]
  },
  {
   "cell_type": "code",
   "execution_count": 2,
   "id": "a8a4661a",
   "metadata": {},
   "outputs": [
    {
     "name": "stdout",
     "output_type": "stream",
     "text": [
      "Requirement already satisfied: xgboost in c:\\users\\aasth\\anaconda3\\lib\\site-packages (1.5.1)\n",
      "Requirement already satisfied: scipy in c:\\users\\aasth\\anaconda3\\lib\\site-packages (from xgboost) (1.6.2)\n",
      "Requirement already satisfied: numpy in c:\\users\\aasth\\anaconda3\\lib\\site-packages (from xgboost) (1.20.1)\n"
     ]
    }
   ],
   "source": [
    "!pip install xgboost"
   ]
  },
  {
   "cell_type": "code",
   "execution_count": 2,
   "id": "43d151d8",
   "metadata": {},
   "outputs": [],
   "source": [
    "os.chdir('D:\\\\ds\\\\dd')"
   ]
  },
  {
   "cell_type": "code",
   "execution_count": 3,
   "id": "9eb26e4b",
   "metadata": {},
   "outputs": [
    {
     "data": {
      "text/plain": [
       "['bank.xlsx',\n",
       " 'bankloan (2).sas7bdat',\n",
       " 'dataframe',\n",
       " 'dataframe.csv',\n",
       " 'eigen_value.csv',\n",
       " 'Fish_dataset.csv',\n",
       " 'heart_failure_clinical_records_dataset.csv',\n",
       " 'HR_comma_sep.csv',\n",
       " 'Linear Regression using Python_Class Assessment.pdf',\n",
       " 'loading_telco',\n",
       " 'loading_telco.csv',\n",
       " 'Mobile_data.csv',\n",
       " 'pd_data',\n",
       " 'pd_data.csv',\n",
       " 'purchase_predictions',\n",
       " 'purchase_predictions.csv',\n",
       " 'sample_submission.csv',\n",
       " 'TaxiFare.csv',\n",
       " 'telco_csv.csv',\n",
       " 'test.csv',\n",
       " 'test_profile.csv',\n",
       " 'train.csv',\n",
       " 'train_profile.csv',\n",
       " 'Treebased_algo.ipynb',\n",
       " 'Variance.csv',\n",
       " 'week 1',\n",
       " 'week 1.csv',\n",
       " 'xAPI-Edu-Data.csv']"
      ]
     },
     "execution_count": 3,
     "metadata": {},
     "output_type": "execute_result"
    }
   ],
   "source": [
    "os.listdir()"
   ]
  },
  {
   "cell_type": "code",
   "execution_count": 4,
   "id": "ce7146d4",
   "metadata": {},
   "outputs": [],
   "source": [
    "x1=pd.read_csv('train.csv')\n",
    "x2=pd.read_csv('test.csv')"
   ]
  },
  {
   "cell_type": "code",
   "execution_count": 5,
   "id": "0c2294e9",
   "metadata": {},
   "outputs": [
    {
     "data": {
      "text/html": [
       "<div>\n",
       "<style scoped>\n",
       "    .dataframe tbody tr th:only-of-type {\n",
       "        vertical-align: middle;\n",
       "    }\n",
       "\n",
       "    .dataframe tbody tr th {\n",
       "        vertical-align: top;\n",
       "    }\n",
       "\n",
       "    .dataframe thead th {\n",
       "        text-align: right;\n",
       "    }\n",
       "</style>\n",
       "<table border=\"1\" class=\"dataframe\">\n",
       "  <thead>\n",
       "    <tr style=\"text-align: right;\">\n",
       "      <th></th>\n",
       "      <th>User_ID</th>\n",
       "      <th>Product_ID</th>\n",
       "      <th>Gender</th>\n",
       "      <th>Age</th>\n",
       "      <th>Occupation</th>\n",
       "      <th>City_Category</th>\n",
       "      <th>Stay_In_Current_City_Years</th>\n",
       "      <th>Marital_Status</th>\n",
       "      <th>Product_Category_1</th>\n",
       "      <th>Product_Category_2</th>\n",
       "      <th>Product_Category_3</th>\n",
       "      <th>Purchase</th>\n",
       "    </tr>\n",
       "  </thead>\n",
       "  <tbody>\n",
       "    <tr>\n",
       "      <th>0</th>\n",
       "      <td>1000001</td>\n",
       "      <td>P00069042</td>\n",
       "      <td>F</td>\n",
       "      <td>0-17</td>\n",
       "      <td>10</td>\n",
       "      <td>A</td>\n",
       "      <td>2</td>\n",
       "      <td>0</td>\n",
       "      <td>3</td>\n",
       "      <td>NaN</td>\n",
       "      <td>NaN</td>\n",
       "      <td>8370</td>\n",
       "    </tr>\n",
       "    <tr>\n",
       "      <th>1</th>\n",
       "      <td>1000001</td>\n",
       "      <td>P00248942</td>\n",
       "      <td>F</td>\n",
       "      <td>0-17</td>\n",
       "      <td>10</td>\n",
       "      <td>A</td>\n",
       "      <td>2</td>\n",
       "      <td>0</td>\n",
       "      <td>1</td>\n",
       "      <td>6.0</td>\n",
       "      <td>14.0</td>\n",
       "      <td>15200</td>\n",
       "    </tr>\n",
       "    <tr>\n",
       "      <th>2</th>\n",
       "      <td>1000001</td>\n",
       "      <td>P00087842</td>\n",
       "      <td>F</td>\n",
       "      <td>0-17</td>\n",
       "      <td>10</td>\n",
       "      <td>A</td>\n",
       "      <td>2</td>\n",
       "      <td>0</td>\n",
       "      <td>12</td>\n",
       "      <td>NaN</td>\n",
       "      <td>NaN</td>\n",
       "      <td>1422</td>\n",
       "    </tr>\n",
       "    <tr>\n",
       "      <th>3</th>\n",
       "      <td>1000001</td>\n",
       "      <td>P00085442</td>\n",
       "      <td>F</td>\n",
       "      <td>0-17</td>\n",
       "      <td>10</td>\n",
       "      <td>A</td>\n",
       "      <td>2</td>\n",
       "      <td>0</td>\n",
       "      <td>12</td>\n",
       "      <td>14.0</td>\n",
       "      <td>NaN</td>\n",
       "      <td>1057</td>\n",
       "    </tr>\n",
       "    <tr>\n",
       "      <th>4</th>\n",
       "      <td>1000002</td>\n",
       "      <td>P00285442</td>\n",
       "      <td>M</td>\n",
       "      <td>55+</td>\n",
       "      <td>16</td>\n",
       "      <td>C</td>\n",
       "      <td>4+</td>\n",
       "      <td>0</td>\n",
       "      <td>8</td>\n",
       "      <td>NaN</td>\n",
       "      <td>NaN</td>\n",
       "      <td>7969</td>\n",
       "    </tr>\n",
       "  </tbody>\n",
       "</table>\n",
       "</div>"
      ],
      "text/plain": [
       "   User_ID Product_ID Gender   Age  Occupation City_Category  \\\n",
       "0  1000001  P00069042      F  0-17          10             A   \n",
       "1  1000001  P00248942      F  0-17          10             A   \n",
       "2  1000001  P00087842      F  0-17          10             A   \n",
       "3  1000001  P00085442      F  0-17          10             A   \n",
       "4  1000002  P00285442      M   55+          16             C   \n",
       "\n",
       "  Stay_In_Current_City_Years  Marital_Status  Product_Category_1  \\\n",
       "0                          2               0                   3   \n",
       "1                          2               0                   1   \n",
       "2                          2               0                  12   \n",
       "3                          2               0                  12   \n",
       "4                         4+               0                   8   \n",
       "\n",
       "   Product_Category_2  Product_Category_3  Purchase  \n",
       "0                 NaN                 NaN      8370  \n",
       "1                 6.0                14.0     15200  \n",
       "2                 NaN                 NaN      1422  \n",
       "3                14.0                 NaN      1057  \n",
       "4                 NaN                 NaN      7969  "
      ]
     },
     "execution_count": 5,
     "metadata": {},
     "output_type": "execute_result"
    }
   ],
   "source": [
    "x1.head()"
   ]
  },
  {
   "cell_type": "code",
   "execution_count": 6,
   "id": "4912b1af",
   "metadata": {},
   "outputs": [],
   "source": [
    "#eda "
   ]
  },
  {
   "cell_type": "code",
   "execution_count": 7,
   "id": "b6749557",
   "metadata": {},
   "outputs": [],
   "source": [
    "#univariate"
   ]
  },
  {
   "cell_type": "code",
   "execution_count": 8,
   "id": "dc6309d1",
   "metadata": {},
   "outputs": [
    {
     "data": {
      "text/plain": [
       "P00265242    1880\n",
       "P00025442    1615\n",
       "P00110742    1612\n",
       "P00112142    1562\n",
       "P00057642    1470\n",
       "             ... \n",
       "P00206542       1\n",
       "P00353742       1\n",
       "P00057842       1\n",
       "P00126342       1\n",
       "P00353042       1\n",
       "Name: Product_ID, Length: 3631, dtype: int64"
      ]
     },
     "execution_count": 8,
     "metadata": {},
     "output_type": "execute_result"
    }
   ],
   "source": [
    "x1[\"Product_ID\"].value_counts(dropna=False)"
   ]
  },
  {
   "cell_type": "code",
   "execution_count": 9,
   "id": "7a4d908d",
   "metadata": {},
   "outputs": [
    {
     "data": {
      "text/plain": [
       "M    414259\n",
       "F    135809\n",
       "Name: Gender, dtype: int64"
      ]
     },
     "execution_count": 9,
     "metadata": {},
     "output_type": "execute_result"
    }
   ],
   "source": [
    "x1[\"Gender\"].value_counts(dropna=False)"
   ]
  },
  {
   "cell_type": "code",
   "execution_count": 10,
   "id": "e8f88f74",
   "metadata": {},
   "outputs": [
    {
     "data": {
      "text/plain": [
       "M    175772\n",
       "F     57827\n",
       "Name: Gender, dtype: int64"
      ]
     },
     "execution_count": 10,
     "metadata": {},
     "output_type": "execute_result"
    }
   ],
   "source": [
    "x2[\"Gender\"].value_counts(dropna=False)"
   ]
  },
  {
   "cell_type": "code",
   "execution_count": 11,
   "id": "23375191",
   "metadata": {},
   "outputs": [],
   "source": [
    "gender_d={\"M\" : 1,\"F\" : 0}\n",
    "x1=x1.replace({\"Gender\" : gender_d})"
   ]
  },
  {
   "cell_type": "code",
   "execution_count": 12,
   "id": "3885474d",
   "metadata": {},
   "outputs": [],
   "source": [
    "gender_d={\"M\" : 1,\"F\" : 0}\n",
    "x2=x2.replace({\"Gender\" : gender_d})"
   ]
  },
  {
   "cell_type": "code",
   "execution_count": 13,
   "id": "9eae538f",
   "metadata": {},
   "outputs": [
    {
     "data": {
      "text/plain": [
       "26-35    219587\n",
       "36-45    110013\n",
       "18-25     99660\n",
       "46-50     45701\n",
       "51-55     38501\n",
       "55+       21504\n",
       "0-17      15102\n",
       "Name: Age, dtype: int64"
      ]
     },
     "execution_count": 13,
     "metadata": {},
     "output_type": "execute_result"
    }
   ],
   "source": [
    "x1[\"Age\"].value_counts(dropna=False)"
   ]
  },
  {
   "cell_type": "code",
   "execution_count": 14,
   "id": "b344c64d",
   "metadata": {},
   "outputs": [
    {
     "data": {
      "text/plain": [
       "26-35    93428\n",
       "36-45    46711\n",
       "18-25    42293\n",
       "46-50    19577\n",
       "51-55    16283\n",
       "55+       9075\n",
       "0-17      6232\n",
       "Name: Age, dtype: int64"
      ]
     },
     "execution_count": 14,
     "metadata": {},
     "output_type": "execute_result"
    }
   ],
   "source": [
    "x2[\"Age\"].value_counts(dropna=False)"
   ]
  },
  {
   "cell_type": "code",
   "execution_count": 15,
   "id": "3311dc99",
   "metadata": {},
   "outputs": [],
   "source": [
    "age_d={\"0-17\":1,\n",
    "      \"18-25\":2,\n",
    "      \"26-35\":3,\n",
    "      \"36-45\":4,\n",
    "      \"46-50\":5,\n",
    "      \"51-55\":6,\n",
    "      \"55+\":7}\n",
    "x1=x1.replace({\"Age\" : age_d})"
   ]
  },
  {
   "cell_type": "code",
   "execution_count": 16,
   "id": "0e437d59",
   "metadata": {},
   "outputs": [],
   "source": [
    "age_d={\"0-17\":1,\n",
    "      \"18-25\":2,\n",
    "      \"26-35\":3,\n",
    "      \"36-45\":4,\n",
    "      \"46-50\":5,\n",
    "      \"51-55\":6,\n",
    "      \"55+\":7}\n",
    "x2=x2.replace({\"Age\" : age_d})"
   ]
  },
  {
   "cell_type": "code",
   "execution_count": 17,
   "id": "503df588",
   "metadata": {},
   "outputs": [
    {
     "data": {
      "text/html": [
       "<div>\n",
       "<style scoped>\n",
       "    .dataframe tbody tr th:only-of-type {\n",
       "        vertical-align: middle;\n",
       "    }\n",
       "\n",
       "    .dataframe tbody tr th {\n",
       "        vertical-align: top;\n",
       "    }\n",
       "\n",
       "    .dataframe thead th {\n",
       "        text-align: right;\n",
       "    }\n",
       "</style>\n",
       "<table border=\"1\" class=\"dataframe\">\n",
       "  <thead>\n",
       "    <tr style=\"text-align: right;\">\n",
       "      <th></th>\n",
       "      <th>User_ID</th>\n",
       "      <th>Product_ID</th>\n",
       "      <th>Gender</th>\n",
       "      <th>Age</th>\n",
       "      <th>Occupation</th>\n",
       "      <th>City_Category</th>\n",
       "      <th>Stay_In_Current_City_Years</th>\n",
       "      <th>Marital_Status</th>\n",
       "      <th>Product_Category_1</th>\n",
       "      <th>Product_Category_2</th>\n",
       "      <th>Product_Category_3</th>\n",
       "      <th>Purchase</th>\n",
       "    </tr>\n",
       "  </thead>\n",
       "  <tbody>\n",
       "    <tr>\n",
       "      <th>0</th>\n",
       "      <td>1000001</td>\n",
       "      <td>P00069042</td>\n",
       "      <td>0</td>\n",
       "      <td>1</td>\n",
       "      <td>10</td>\n",
       "      <td>A</td>\n",
       "      <td>2</td>\n",
       "      <td>0</td>\n",
       "      <td>3</td>\n",
       "      <td>NaN</td>\n",
       "      <td>NaN</td>\n",
       "      <td>8370</td>\n",
       "    </tr>\n",
       "    <tr>\n",
       "      <th>1</th>\n",
       "      <td>1000001</td>\n",
       "      <td>P00248942</td>\n",
       "      <td>0</td>\n",
       "      <td>1</td>\n",
       "      <td>10</td>\n",
       "      <td>A</td>\n",
       "      <td>2</td>\n",
       "      <td>0</td>\n",
       "      <td>1</td>\n",
       "      <td>6.0</td>\n",
       "      <td>14.0</td>\n",
       "      <td>15200</td>\n",
       "    </tr>\n",
       "    <tr>\n",
       "      <th>2</th>\n",
       "      <td>1000001</td>\n",
       "      <td>P00087842</td>\n",
       "      <td>0</td>\n",
       "      <td>1</td>\n",
       "      <td>10</td>\n",
       "      <td>A</td>\n",
       "      <td>2</td>\n",
       "      <td>0</td>\n",
       "      <td>12</td>\n",
       "      <td>NaN</td>\n",
       "      <td>NaN</td>\n",
       "      <td>1422</td>\n",
       "    </tr>\n",
       "    <tr>\n",
       "      <th>3</th>\n",
       "      <td>1000001</td>\n",
       "      <td>P00085442</td>\n",
       "      <td>0</td>\n",
       "      <td>1</td>\n",
       "      <td>10</td>\n",
       "      <td>A</td>\n",
       "      <td>2</td>\n",
       "      <td>0</td>\n",
       "      <td>12</td>\n",
       "      <td>14.0</td>\n",
       "      <td>NaN</td>\n",
       "      <td>1057</td>\n",
       "    </tr>\n",
       "    <tr>\n",
       "      <th>4</th>\n",
       "      <td>1000002</td>\n",
       "      <td>P00285442</td>\n",
       "      <td>1</td>\n",
       "      <td>7</td>\n",
       "      <td>16</td>\n",
       "      <td>C</td>\n",
       "      <td>4+</td>\n",
       "      <td>0</td>\n",
       "      <td>8</td>\n",
       "      <td>NaN</td>\n",
       "      <td>NaN</td>\n",
       "      <td>7969</td>\n",
       "    </tr>\n",
       "    <tr>\n",
       "      <th>...</th>\n",
       "      <td>...</td>\n",
       "      <td>...</td>\n",
       "      <td>...</td>\n",
       "      <td>...</td>\n",
       "      <td>...</td>\n",
       "      <td>...</td>\n",
       "      <td>...</td>\n",
       "      <td>...</td>\n",
       "      <td>...</td>\n",
       "      <td>...</td>\n",
       "      <td>...</td>\n",
       "      <td>...</td>\n",
       "    </tr>\n",
       "    <tr>\n",
       "      <th>550063</th>\n",
       "      <td>1006033</td>\n",
       "      <td>P00372445</td>\n",
       "      <td>1</td>\n",
       "      <td>6</td>\n",
       "      <td>13</td>\n",
       "      <td>B</td>\n",
       "      <td>1</td>\n",
       "      <td>1</td>\n",
       "      <td>20</td>\n",
       "      <td>NaN</td>\n",
       "      <td>NaN</td>\n",
       "      <td>368</td>\n",
       "    </tr>\n",
       "    <tr>\n",
       "      <th>550064</th>\n",
       "      <td>1006035</td>\n",
       "      <td>P00375436</td>\n",
       "      <td>0</td>\n",
       "      <td>3</td>\n",
       "      <td>1</td>\n",
       "      <td>C</td>\n",
       "      <td>3</td>\n",
       "      <td>0</td>\n",
       "      <td>20</td>\n",
       "      <td>NaN</td>\n",
       "      <td>NaN</td>\n",
       "      <td>371</td>\n",
       "    </tr>\n",
       "    <tr>\n",
       "      <th>550065</th>\n",
       "      <td>1006036</td>\n",
       "      <td>P00375436</td>\n",
       "      <td>0</td>\n",
       "      <td>3</td>\n",
       "      <td>15</td>\n",
       "      <td>B</td>\n",
       "      <td>4+</td>\n",
       "      <td>1</td>\n",
       "      <td>20</td>\n",
       "      <td>NaN</td>\n",
       "      <td>NaN</td>\n",
       "      <td>137</td>\n",
       "    </tr>\n",
       "    <tr>\n",
       "      <th>550066</th>\n",
       "      <td>1006038</td>\n",
       "      <td>P00375436</td>\n",
       "      <td>0</td>\n",
       "      <td>7</td>\n",
       "      <td>1</td>\n",
       "      <td>C</td>\n",
       "      <td>2</td>\n",
       "      <td>0</td>\n",
       "      <td>20</td>\n",
       "      <td>NaN</td>\n",
       "      <td>NaN</td>\n",
       "      <td>365</td>\n",
       "    </tr>\n",
       "    <tr>\n",
       "      <th>550067</th>\n",
       "      <td>1006039</td>\n",
       "      <td>P00371644</td>\n",
       "      <td>0</td>\n",
       "      <td>5</td>\n",
       "      <td>0</td>\n",
       "      <td>B</td>\n",
       "      <td>4+</td>\n",
       "      <td>1</td>\n",
       "      <td>20</td>\n",
       "      <td>NaN</td>\n",
       "      <td>NaN</td>\n",
       "      <td>490</td>\n",
       "    </tr>\n",
       "  </tbody>\n",
       "</table>\n",
       "<p>550068 rows × 12 columns</p>\n",
       "</div>"
      ],
      "text/plain": [
       "        User_ID Product_ID  Gender  Age  Occupation City_Category  \\\n",
       "0       1000001  P00069042       0    1          10             A   \n",
       "1       1000001  P00248942       0    1          10             A   \n",
       "2       1000001  P00087842       0    1          10             A   \n",
       "3       1000001  P00085442       0    1          10             A   \n",
       "4       1000002  P00285442       1    7          16             C   \n",
       "...         ...        ...     ...  ...         ...           ...   \n",
       "550063  1006033  P00372445       1    6          13             B   \n",
       "550064  1006035  P00375436       0    3           1             C   \n",
       "550065  1006036  P00375436       0    3          15             B   \n",
       "550066  1006038  P00375436       0    7           1             C   \n",
       "550067  1006039  P00371644       0    5           0             B   \n",
       "\n",
       "       Stay_In_Current_City_Years  Marital_Status  Product_Category_1  \\\n",
       "0                               2               0                   3   \n",
       "1                               2               0                   1   \n",
       "2                               2               0                  12   \n",
       "3                               2               0                  12   \n",
       "4                              4+               0                   8   \n",
       "...                           ...             ...                 ...   \n",
       "550063                          1               1                  20   \n",
       "550064                          3               0                  20   \n",
       "550065                         4+               1                  20   \n",
       "550066                          2               0                  20   \n",
       "550067                         4+               1                  20   \n",
       "\n",
       "        Product_Category_2  Product_Category_3  Purchase  \n",
       "0                      NaN                 NaN      8370  \n",
       "1                      6.0                14.0     15200  \n",
       "2                      NaN                 NaN      1422  \n",
       "3                     14.0                 NaN      1057  \n",
       "4                      NaN                 NaN      7969  \n",
       "...                    ...                 ...       ...  \n",
       "550063                 NaN                 NaN       368  \n",
       "550064                 NaN                 NaN       371  \n",
       "550065                 NaN                 NaN       137  \n",
       "550066                 NaN                 NaN       365  \n",
       "550067                 NaN                 NaN       490  \n",
       "\n",
       "[550068 rows x 12 columns]"
      ]
     },
     "execution_count": 17,
     "metadata": {},
     "output_type": "execute_result"
    }
   ],
   "source": [
    "x1"
   ]
  },
  {
   "cell_type": "code",
   "execution_count": 18,
   "id": "74581c76",
   "metadata": {},
   "outputs": [
    {
     "data": {
      "text/html": [
       "<div>\n",
       "<style scoped>\n",
       "    .dataframe tbody tr th:only-of-type {\n",
       "        vertical-align: middle;\n",
       "    }\n",
       "\n",
       "    .dataframe tbody tr th {\n",
       "        vertical-align: top;\n",
       "    }\n",
       "\n",
       "    .dataframe thead th {\n",
       "        text-align: right;\n",
       "    }\n",
       "</style>\n",
       "<table border=\"1\" class=\"dataframe\">\n",
       "  <thead>\n",
       "    <tr style=\"text-align: right;\">\n",
       "      <th></th>\n",
       "      <th>User_ID</th>\n",
       "      <th>Product_ID</th>\n",
       "      <th>Gender</th>\n",
       "      <th>Age</th>\n",
       "      <th>Occupation</th>\n",
       "      <th>City_Category</th>\n",
       "      <th>Stay_In_Current_City_Years</th>\n",
       "      <th>Marital_Status</th>\n",
       "      <th>Product_Category_1</th>\n",
       "      <th>Product_Category_2</th>\n",
       "      <th>Product_Category_3</th>\n",
       "    </tr>\n",
       "  </thead>\n",
       "  <tbody>\n",
       "    <tr>\n",
       "      <th>0</th>\n",
       "      <td>1000004</td>\n",
       "      <td>P00128942</td>\n",
       "      <td>1</td>\n",
       "      <td>5</td>\n",
       "      <td>7</td>\n",
       "      <td>B</td>\n",
       "      <td>2</td>\n",
       "      <td>1</td>\n",
       "      <td>1</td>\n",
       "      <td>11.0</td>\n",
       "      <td>NaN</td>\n",
       "    </tr>\n",
       "    <tr>\n",
       "      <th>1</th>\n",
       "      <td>1000009</td>\n",
       "      <td>P00113442</td>\n",
       "      <td>1</td>\n",
       "      <td>3</td>\n",
       "      <td>17</td>\n",
       "      <td>C</td>\n",
       "      <td>0</td>\n",
       "      <td>0</td>\n",
       "      <td>3</td>\n",
       "      <td>5.0</td>\n",
       "      <td>NaN</td>\n",
       "    </tr>\n",
       "    <tr>\n",
       "      <th>2</th>\n",
       "      <td>1000010</td>\n",
       "      <td>P00288442</td>\n",
       "      <td>0</td>\n",
       "      <td>4</td>\n",
       "      <td>1</td>\n",
       "      <td>B</td>\n",
       "      <td>4+</td>\n",
       "      <td>1</td>\n",
       "      <td>5</td>\n",
       "      <td>14.0</td>\n",
       "      <td>NaN</td>\n",
       "    </tr>\n",
       "    <tr>\n",
       "      <th>3</th>\n",
       "      <td>1000010</td>\n",
       "      <td>P00145342</td>\n",
       "      <td>0</td>\n",
       "      <td>4</td>\n",
       "      <td>1</td>\n",
       "      <td>B</td>\n",
       "      <td>4+</td>\n",
       "      <td>1</td>\n",
       "      <td>4</td>\n",
       "      <td>9.0</td>\n",
       "      <td>NaN</td>\n",
       "    </tr>\n",
       "    <tr>\n",
       "      <th>4</th>\n",
       "      <td>1000011</td>\n",
       "      <td>P00053842</td>\n",
       "      <td>0</td>\n",
       "      <td>3</td>\n",
       "      <td>1</td>\n",
       "      <td>C</td>\n",
       "      <td>1</td>\n",
       "      <td>0</td>\n",
       "      <td>4</td>\n",
       "      <td>5.0</td>\n",
       "      <td>12.0</td>\n",
       "    </tr>\n",
       "    <tr>\n",
       "      <th>...</th>\n",
       "      <td>...</td>\n",
       "      <td>...</td>\n",
       "      <td>...</td>\n",
       "      <td>...</td>\n",
       "      <td>...</td>\n",
       "      <td>...</td>\n",
       "      <td>...</td>\n",
       "      <td>...</td>\n",
       "      <td>...</td>\n",
       "      <td>...</td>\n",
       "      <td>...</td>\n",
       "    </tr>\n",
       "    <tr>\n",
       "      <th>233594</th>\n",
       "      <td>1006036</td>\n",
       "      <td>P00118942</td>\n",
       "      <td>0</td>\n",
       "      <td>3</td>\n",
       "      <td>15</td>\n",
       "      <td>B</td>\n",
       "      <td>4+</td>\n",
       "      <td>1</td>\n",
       "      <td>8</td>\n",
       "      <td>NaN</td>\n",
       "      <td>NaN</td>\n",
       "    </tr>\n",
       "    <tr>\n",
       "      <th>233595</th>\n",
       "      <td>1006036</td>\n",
       "      <td>P00254642</td>\n",
       "      <td>0</td>\n",
       "      <td>3</td>\n",
       "      <td>15</td>\n",
       "      <td>B</td>\n",
       "      <td>4+</td>\n",
       "      <td>1</td>\n",
       "      <td>5</td>\n",
       "      <td>8.0</td>\n",
       "      <td>NaN</td>\n",
       "    </tr>\n",
       "    <tr>\n",
       "      <th>233596</th>\n",
       "      <td>1006036</td>\n",
       "      <td>P00031842</td>\n",
       "      <td>0</td>\n",
       "      <td>3</td>\n",
       "      <td>15</td>\n",
       "      <td>B</td>\n",
       "      <td>4+</td>\n",
       "      <td>1</td>\n",
       "      <td>1</td>\n",
       "      <td>5.0</td>\n",
       "      <td>12.0</td>\n",
       "    </tr>\n",
       "    <tr>\n",
       "      <th>233597</th>\n",
       "      <td>1006037</td>\n",
       "      <td>P00124742</td>\n",
       "      <td>0</td>\n",
       "      <td>5</td>\n",
       "      <td>1</td>\n",
       "      <td>C</td>\n",
       "      <td>4+</td>\n",
       "      <td>0</td>\n",
       "      <td>10</td>\n",
       "      <td>16.0</td>\n",
       "      <td>NaN</td>\n",
       "    </tr>\n",
       "    <tr>\n",
       "      <th>233598</th>\n",
       "      <td>1006039</td>\n",
       "      <td>P00316642</td>\n",
       "      <td>0</td>\n",
       "      <td>5</td>\n",
       "      <td>0</td>\n",
       "      <td>B</td>\n",
       "      <td>4+</td>\n",
       "      <td>1</td>\n",
       "      <td>4</td>\n",
       "      <td>5.0</td>\n",
       "      <td>NaN</td>\n",
       "    </tr>\n",
       "  </tbody>\n",
       "</table>\n",
       "<p>233599 rows × 11 columns</p>\n",
       "</div>"
      ],
      "text/plain": [
       "        User_ID Product_ID  Gender  Age  Occupation City_Category  \\\n",
       "0       1000004  P00128942       1    5           7             B   \n",
       "1       1000009  P00113442       1    3          17             C   \n",
       "2       1000010  P00288442       0    4           1             B   \n",
       "3       1000010  P00145342       0    4           1             B   \n",
       "4       1000011  P00053842       0    3           1             C   \n",
       "...         ...        ...     ...  ...         ...           ...   \n",
       "233594  1006036  P00118942       0    3          15             B   \n",
       "233595  1006036  P00254642       0    3          15             B   \n",
       "233596  1006036  P00031842       0    3          15             B   \n",
       "233597  1006037  P00124742       0    5           1             C   \n",
       "233598  1006039  P00316642       0    5           0             B   \n",
       "\n",
       "       Stay_In_Current_City_Years  Marital_Status  Product_Category_1  \\\n",
       "0                               2               1                   1   \n",
       "1                               0               0                   3   \n",
       "2                              4+               1                   5   \n",
       "3                              4+               1                   4   \n",
       "4                               1               0                   4   \n",
       "...                           ...             ...                 ...   \n",
       "233594                         4+               1                   8   \n",
       "233595                         4+               1                   5   \n",
       "233596                         4+               1                   1   \n",
       "233597                         4+               0                  10   \n",
       "233598                         4+               1                   4   \n",
       "\n",
       "        Product_Category_2  Product_Category_3  \n",
       "0                     11.0                 NaN  \n",
       "1                      5.0                 NaN  \n",
       "2                     14.0                 NaN  \n",
       "3                      9.0                 NaN  \n",
       "4                      5.0                12.0  \n",
       "...                    ...                 ...  \n",
       "233594                 NaN                 NaN  \n",
       "233595                 8.0                 NaN  \n",
       "233596                 5.0                12.0  \n",
       "233597                16.0                 NaN  \n",
       "233598                 5.0                 NaN  \n",
       "\n",
       "[233599 rows x 11 columns]"
      ]
     },
     "execution_count": 18,
     "metadata": {},
     "output_type": "execute_result"
    }
   ],
   "source": [
    "x2"
   ]
  },
  {
   "cell_type": "code",
   "execution_count": 19,
   "id": "60962dec",
   "metadata": {},
   "outputs": [
    {
     "data": {
      "text/plain": [
       "B    231173\n",
       "C    171175\n",
       "A    147720\n",
       "Name: City_Category, dtype: int64"
      ]
     },
     "execution_count": 19,
     "metadata": {},
     "output_type": "execute_result"
    }
   ],
   "source": [
    "x1[\"City_Category\"].value_counts(dropna=False)"
   ]
  },
  {
   "cell_type": "code",
   "execution_count": 20,
   "id": "48739b03",
   "metadata": {},
   "outputs": [
    {
     "data": {
      "text/plain": [
       "B    98566\n",
       "C    72509\n",
       "A    62524\n",
       "Name: City_Category, dtype: int64"
      ]
     },
     "execution_count": 20,
     "metadata": {},
     "output_type": "execute_result"
    }
   ],
   "source": [
    "x2[\"City_Category\"].value_counts(dropna=False)"
   ]
  },
  {
   "cell_type": "code",
   "execution_count": 21,
   "id": "93cfef70",
   "metadata": {},
   "outputs": [
    {
     "data": {
      "image/png": "[encoded data removed]",
      "text/plain": [
       "<Figure size 792x432 with 1 Axes>"
      ]
     },
     "metadata": {},
     "output_type": "display_data"
    }
   ],
   "source": [
    "explode = (0.1, 0, 0)\n",
    "fig1, ax1 = plt.subplots(figsize=(11,6))\n",
    "ax1.pie(x1['City_Category'].value_counts(), explode=explode, labels=x1['City_Category'].unique(), autopct='%1.1f%%')\n",
    "plt.legend()\n",
    "plt.show()"
   ]
  },
  {
   "cell_type": "code",
   "execution_count": 22,
   "id": "6fac6cd5",
   "metadata": {},
   "outputs": [],
   "source": [
    "# from this we can conclude that from every city category people shopped really well during this sale \n",
    "# also we can say maybe this store was easily accessible to them thats why they shopped a lot from the store during black friday sale"
   ]
  },
  {
   "cell_type": "code",
   "execution_count": 23,
   "id": "98d1de93",
   "metadata": {},
   "outputs": [],
   "source": [
    "City_Category_dict={\"A\":1,\n",
    "                      \"B\":2,\n",
    "                       \"C\":3}\n",
    "x1=x1.replace({\"City_Category\": City_Category_dict})"
   ]
  },
  {
   "cell_type": "code",
   "execution_count": 24,
   "id": "bf4933f2",
   "metadata": {},
   "outputs": [],
   "source": [
    "City_Category_dict={\"A\":1,\n",
    "                      \"B\":2,\n",
    "                       \"C\":3}\n",
    "x2=x2.replace({\"City_Category\": City_Category_dict})"
   ]
  },
  {
   "cell_type": "code",
   "execution_count": 25,
   "id": "57310ea7",
   "metadata": {},
   "outputs": [
    {
     "data": {
      "text/plain": [
       "1     193821\n",
       "2     101838\n",
       "3      95285\n",
       "4+     84726\n",
       "0      74398\n",
       "Name: Stay_In_Current_City_Years, dtype: int64"
      ]
     },
     "execution_count": 25,
     "metadata": {},
     "output_type": "execute_result"
    }
   ],
   "source": [
    "x1[\"Stay_In_Current_City_Years\"].value_counts(dropna=False)"
   ]
  },
  {
   "cell_type": "code",
   "execution_count": 26,
   "id": "28cce2f4",
   "metadata": {},
   "outputs": [
    {
     "data": {
      "text/plain": [
       "1     82604\n",
       "2     43589\n",
       "3     40143\n",
       "4+    35945\n",
       "0     31318\n",
       "Name: Stay_In_Current_City_Years, dtype: int64"
      ]
     },
     "execution_count": 26,
     "metadata": {},
     "output_type": "execute_result"
    }
   ],
   "source": [
    "x2[\"Stay_In_Current_City_Years\"].value_counts(dropna=False)"
   ]
  },
  {
   "cell_type": "code",
   "execution_count": 27,
   "id": "88718c5b",
   "metadata": {},
   "outputs": [],
   "source": [
    "stay_d={\"0\":0,\n",
    "       \"1\":1,\n",
    "       \"2\":2,\n",
    "       \"3\":3,\n",
    "       \"4+\":4}\n",
    "x1=x1.replace({\"Stay_In_Current_City_Years\":stay_d})"
   ]
  },
  {
   "cell_type": "code",
   "execution_count": 28,
   "id": "ac5579aa",
   "metadata": {},
   "outputs": [],
   "source": [
    "stay_d={\"0\":0,\n",
    "       \"1\":1,\n",
    "       \"2\":2,\n",
    "       \"3\":3,\n",
    "       \"4+\":4}\n",
    "x2=x2.replace({\"Stay_In_Current_City_Years\":stay_d})"
   ]
  },
  {
   "cell_type": "code",
   "execution_count": 29,
   "id": "c43aca5d",
   "metadata": {},
   "outputs": [
    {
     "data": {
      "text/plain": [
       "0    324731\n",
       "1    225337\n",
       "Name: Marital_Status, dtype: int64"
      ]
     },
     "execution_count": 29,
     "metadata": {},
     "output_type": "execute_result"
    }
   ],
   "source": [
    "x1[\"Marital_Status\"].value_counts(dropna=False)"
   ]
  },
  {
   "cell_type": "code",
   "execution_count": 30,
   "id": "4cb04e14",
   "metadata": {},
   "outputs": [
    {
     "data": {
      "text/plain": [
       "0    137807\n",
       "1     95792\n",
       "Name: Marital_Status, dtype: int64"
      ]
     },
     "execution_count": 30,
     "metadata": {},
     "output_type": "execute_result"
    }
   ],
   "source": [
    "x2[\"Marital_Status\"].value_counts(dropna=False)"
   ]
  },
  {
   "cell_type": "code",
   "execution_count": 31,
   "id": "7e349d8d",
   "metadata": {},
   "outputs": [
    {
     "data": {
      "text/plain": [
       "4     72308\n",
       "0     69638\n",
       "7     59133\n",
       "1     47426\n",
       "17    40043\n",
       "20    33562\n",
       "12    31179\n",
       "14    27309\n",
       "2     26588\n",
       "16    25371\n",
       "6     20355\n",
       "3     17650\n",
       "10    12930\n",
       "5     12177\n",
       "15    12165\n",
       "11    11586\n",
       "19     8461\n",
       "13     7728\n",
       "18     6622\n",
       "9      6291\n",
       "8      1546\n",
       "Name: Occupation, dtype: int64"
      ]
     },
     "execution_count": 31,
     "metadata": {},
     "output_type": "execute_result"
    }
   ],
   "source": [
    "x1[\"Occupation\"].value_counts(dropna=False)"
   ]
  },
  {
   "cell_type": "code",
   "execution_count": 32,
   "id": "5f458007",
   "metadata": {},
   "outputs": [],
   "source": [
    "def unique(column):\n",
    "    x = np.array(column)\n",
    "    print(np.unique(x))"
   ]
  },
  {
   "cell_type": "code",
   "execution_count": 33,
   "id": "81a17537",
   "metadata": {},
   "outputs": [
    {
     "name": "stdout",
     "output_type": "stream",
     "text": [
      "The unique ID numbers of customers occupations:\n",
      "[ 0  1  2  3  4  5  6  7  8  9 10 11 12 13 14 15 16 17 18 19 20]\n"
     ]
    }
   ],
   "source": [
    "print(\"The unique ID numbers of customers occupations:\")\n",
    "unique(x1['Occupation'])"
   ]
  },
  {
   "cell_type": "code",
   "execution_count": 34,
   "id": "a435fc38",
   "metadata": {},
   "outputs": [],
   "source": [
    "# now we will see how much total money is spent by each category of occupations"
   ]
  },
  {
   "cell_type": "code",
   "execution_count": 35,
   "id": "b05a3731",
   "metadata": {},
   "outputs": [
    {
     "data": {
      "text/plain": [
       "[635406958,\n",
       " 424614144,\n",
       " 238028583,\n",
       " 162002168,\n",
       " 666244484,\n",
       " 113649759,\n",
       " 188416784,\n",
       " 557371587,\n",
       " 14737388,\n",
       " 54340046,\n",
       " 115844465,\n",
       " 106751618,\n",
       " 305449446,\n",
       " 71919481,\n",
       " 259454692,\n",
       " 118960211,\n",
       " 238346955,\n",
       " 393281453,\n",
       " 60721461,\n",
       " 73700617,\n",
       " 296570442]"
      ]
     },
     "execution_count": 35,
     "metadata": {},
     "output_type": "execute_result"
    }
   ],
   "source": [
    "occupations_id = list(range(0, 21))\n",
    "spent_money = []\n",
    "for oid in occupations_id:\n",
    "    spent_money.append(x1[x1['Occupation'] == oid]['Purchase'].sum())\n",
    "\n",
    "spent_money"
   ]
  },
  {
   "cell_type": "code",
   "execution_count": 36,
   "id": "e8ef9f08",
   "metadata": {},
   "outputs": [],
   "source": [
    "# we will see this through bar graph\n"
   ]
  },
  {
   "cell_type": "code",
   "execution_count": 37,
   "id": "be15b67d",
   "metadata": {},
   "outputs": [
    {
     "data": {
      "image/png": "[encoded data removed]",
      "text/plain": [
       "<Figure size 640x480 with 1 Axes>"
      ]
     },
     "metadata": {},
     "output_type": "display_data"
    }
   ],
   "source": [
    "import matplotlib.pyplot as plt; plt.rcdefaults()\n",
    "import matplotlib.pyplot as plt\n",
    "\n",
    "objects = ('0', '1', '2', '3', '4', '5','6','7','8','9','10', '11','12', '13', '14', '15', '16', '17', '18', '19', '20')\n",
    "y_pos = np.arange(len(objects))\n",
    "\n",
    "plt.bar(y_pos, spent_money, align='center', alpha=0.5)\n",
    "plt.xticks(y_pos, objects)\n",
    "plt.ylabel('Money spent')\n",
    "plt.title('Occupation ID')\n",
    "\n",
    "plt.show()\n"
   ]
  },
  {
   "cell_type": "code",
   "execution_count": 38,
   "id": "98464224",
   "metadata": {},
   "outputs": [],
   "source": [
    "# category 0&1 spent a lot of money on this sale maybe they are the richest ones\n",
    "# also, category 8 spent very least amount of money ;maybe that was the poorest category of occupation or those people may be least interetsed"
   ]
  },
  {
   "cell_type": "code",
   "execution_count": null,
   "id": "9f59a4f0",
   "metadata": {},
   "outputs": [],
   "source": []
  },
  {
   "cell_type": "code",
   "execution_count": 39,
   "id": "fcafaabf",
   "metadata": {},
   "outputs": [
    {
     "data": {
      "text/plain": [
       "count    550068.000000\n",
       "mean          5.404270\n",
       "std           3.936211\n",
       "min           1.000000\n",
       "25%           1.000000\n",
       "50%           5.000000\n",
       "75%           8.000000\n",
       "max          20.000000\n",
       "Name: Product_Category_1, dtype: float64"
      ]
     },
     "execution_count": 39,
     "metadata": {},
     "output_type": "execute_result"
    }
   ],
   "source": [
    "x1[\"Product_Category_1\"].describe()"
   ]
  },
  {
   "cell_type": "code",
   "execution_count": 40,
   "id": "b2137232",
   "metadata": {},
   "outputs": [
    {
     "data": {
      "text/plain": [
       "0     3\n",
       "1     1\n",
       "2    12\n",
       "3    12\n",
       "4     8\n",
       "Name: Product_Category_1, dtype: int64"
      ]
     },
     "execution_count": 40,
     "metadata": {},
     "output_type": "execute_result"
    }
   ],
   "source": [
    "x1[\"Product_Category_1\"].head()"
   ]
  },
  {
   "cell_type": "code",
   "execution_count": 41,
   "id": "932b9981",
   "metadata": {},
   "outputs": [
    {
     "data": {
      "text/plain": [
       "NaN     173638\n",
       "8.0      64088\n",
       "14.0     55108\n",
       "2.0      49217\n",
       "16.0     43255\n",
       "15.0     37855\n",
       "5.0      26235\n",
       "4.0      25677\n",
       "6.0      16466\n",
       "11.0     14134\n",
       "17.0     13320\n",
       "13.0     10531\n",
       "9.0       5693\n",
       "12.0      5528\n",
       "10.0      3043\n",
       "3.0       2884\n",
       "18.0      2770\n",
       "7.0        626\n",
       "Name: Product_Category_2, dtype: int64"
      ]
     },
     "execution_count": 41,
     "metadata": {},
     "output_type": "execute_result"
    }
   ],
   "source": [
    "x1[\"Product_Category_2\"].value_counts(dropna=False)"
   ]
  },
  {
   "cell_type": "code",
   "execution_count": 42,
   "id": "b64f3307",
   "metadata": {},
   "outputs": [
    {
     "data": {
      "text/plain": [
       "NaN     72344\n",
       "8.0     27229\n",
       "14.0    23726\n",
       "2.0     21281\n",
       "16.0    18432\n",
       "15.0    16259\n",
       "4.0     11028\n",
       "5.0     10930\n",
       "6.0      7109\n",
       "11.0     6096\n",
       "17.0     5784\n",
       "13.0     4523\n",
       "9.0      2484\n",
       "12.0     2273\n",
       "10.0     1377\n",
       "18.0     1257\n",
       "3.0      1239\n",
       "7.0       228\n",
       "Name: Product_Category_2, dtype: int64"
      ]
     },
     "execution_count": 42,
     "metadata": {},
     "output_type": "execute_result"
    }
   ],
   "source": [
    "x2[\"Product_Category_2\"].value_counts(dropna=False)"
   ]
  },
  {
   "cell_type": "code",
   "execution_count": 43,
   "id": "ef7e44e3",
   "metadata": {},
   "outputs": [],
   "source": [
    "x2[\"Product_Category_2\"].fillna(0,inplace=True)"
   ]
  },
  {
   "cell_type": "code",
   "execution_count": 44,
   "id": "12613d06",
   "metadata": {},
   "outputs": [],
   "source": [
    "x1[\"Product_Category_2\"].fillna(0,inplace=True)"
   ]
  },
  {
   "cell_type": "code",
   "execution_count": 45,
   "id": "2bf321a2",
   "metadata": {},
   "outputs": [
    {
     "data": {
      "text/plain": [
       "0"
      ]
     },
     "execution_count": 45,
     "metadata": {},
     "output_type": "execute_result"
    }
   ],
   "source": [
    "x1[\"Product_Category_2\"].isnull().sum()"
   ]
  },
  {
   "cell_type": "code",
   "execution_count": 46,
   "id": "0a8ae728",
   "metadata": {},
   "outputs": [
    {
     "data": {
      "text/plain": [
       "NaN     383247\n",
       "16.0     32636\n",
       "15.0     28013\n",
       "14.0     18428\n",
       "17.0     16702\n",
       "5.0      16658\n",
       "8.0      12562\n",
       "9.0      11579\n",
       "12.0      9246\n",
       "13.0      5459\n",
       "6.0       4890\n",
       "18.0      4629\n",
       "4.0       1875\n",
       "11.0      1805\n",
       "10.0      1726\n",
       "3.0        613\n",
       "Name: Product_Category_3, dtype: int64"
      ]
     },
     "execution_count": 46,
     "metadata": {},
     "output_type": "execute_result"
    }
   ],
   "source": [
    "x1[\"Product_Category_3\"].value_counts(dropna=False)"
   ]
  },
  {
   "cell_type": "code",
   "execution_count": 47,
   "id": "a394a485",
   "metadata": {},
   "outputs": [],
   "source": [
    "x1[\"Product_Category_3\"].fillna(0,inplace=True)"
   ]
  },
  {
   "cell_type": "code",
   "execution_count": 48,
   "id": "fb27c442",
   "metadata": {},
   "outputs": [],
   "source": [
    "x2[\"Product_Category_3\"].fillna(0,inplace=True)"
   ]
  },
  {
   "cell_type": "code",
   "execution_count": 49,
   "id": "fd938334",
   "metadata": {},
   "outputs": [
    {
     "data": {
      "text/plain": [
       "0"
      ]
     },
     "execution_count": 49,
     "metadata": {},
     "output_type": "execute_result"
    }
   ],
   "source": [
    "x1[\"Product_Category_3\"].isnull().sum()"
   ]
  },
  {
   "cell_type": "code",
   "execution_count": 50,
   "id": "0a4d6d36",
   "metadata": {},
   "outputs": [
    {
     "name": "stdout",
     "output_type": "stream",
     "text": [
      "<class 'pandas.core.frame.DataFrame'>\n",
      "RangeIndex: 550068 entries, 0 to 550067\n",
      "Data columns (total 12 columns):\n",
      " #   Column                      Non-Null Count   Dtype  \n",
      "---  ------                      --------------   -----  \n",
      " 0   User_ID                     550068 non-null  int64  \n",
      " 1   Product_ID                  550068 non-null  object \n",
      " 2   Gender                      550068 non-null  int64  \n",
      " 3   Age                         550068 non-null  int64  \n",
      " 4   Occupation                  550068 non-null  int64  \n",
      " 5   City_Category               550068 non-null  int64  \n",
      " 6   Stay_In_Current_City_Years  550068 non-null  int64  \n",
      " 7   Marital_Status              550068 non-null  int64  \n",
      " 8   Product_Category_1          550068 non-null  int64  \n",
      " 9   Product_Category_2          550068 non-null  float64\n",
      " 10  Product_Category_3          550068 non-null  float64\n",
      " 11  Purchase                    550068 non-null  int64  \n",
      "dtypes: float64(2), int64(9), object(1)\n",
      "memory usage: 50.4+ MB\n"
     ]
    }
   ],
   "source": [
    "x1.info()"
   ]
  },
  {
   "cell_type": "markdown",
   "id": "bb184e0f",
   "metadata": {},
   "source": [
    "## bivariate"
   ]
  },
  {
   "cell_type": "code",
   "execution_count": 52,
   "id": "c5ae3f05",
   "metadata": {},
   "outputs": [],
   "source": [
    "prod_purchase=x1.groupby([\"Product_ID\"]).Purchase.agg(\"mean\").to_frame(\"Mean_purchase_value\").reset_index()\n"
   ]
  },
  {
   "cell_type": "code",
   "execution_count": 53,
   "id": "2ff76804",
   "metadata": {},
   "outputs": [
    {
     "data": {
      "text/html": [
       "<div>\n",
       "<style scoped>\n",
       "    .dataframe tbody tr th:only-of-type {\n",
       "        vertical-align: middle;\n",
       "    }\n",
       "\n",
       "    .dataframe tbody tr th {\n",
       "        vertical-align: top;\n",
       "    }\n",
       "\n",
       "    .dataframe thead th {\n",
       "        text-align: right;\n",
       "    }\n",
       "</style>\n",
       "<table border=\"1\" class=\"dataframe\">\n",
       "  <thead>\n",
       "    <tr style=\"text-align: right;\">\n",
       "      <th></th>\n",
       "      <th>Product_ID</th>\n",
       "      <th>Mean_purchase_value</th>\n",
       "    </tr>\n",
       "  </thead>\n",
       "  <tbody>\n",
       "    <tr>\n",
       "      <th>836</th>\n",
       "      <td>P00086242</td>\n",
       "      <td>21256.505495</td>\n",
       "    </tr>\n",
       "    <tr>\n",
       "      <th>827</th>\n",
       "      <td>P00085342</td>\n",
       "      <td>20980.268116</td>\n",
       "    </tr>\n",
       "    <tr>\n",
       "      <th>1902</th>\n",
       "      <td>P00200642</td>\n",
       "      <td>20468.773234</td>\n",
       "    </tr>\n",
       "    <tr>\n",
       "      <th>1070</th>\n",
       "      <td>P00116142</td>\n",
       "      <td>20463.791277</td>\n",
       "    </tr>\n",
       "    <tr>\n",
       "      <th>1102</th>\n",
       "      <td>P00119342</td>\n",
       "      <td>20448.756494</td>\n",
       "    </tr>\n",
       "    <tr>\n",
       "      <th>...</th>\n",
       "      <td>...</td>\n",
       "      <td>...</td>\n",
       "    </tr>\n",
       "    <tr>\n",
       "      <th>3567</th>\n",
       "      <td>P00372445</td>\n",
       "      <td>374.930705</td>\n",
       "    </tr>\n",
       "    <tr>\n",
       "      <th>3568</th>\n",
       "      <td>P00375436</td>\n",
       "      <td>374.266585</td>\n",
       "    </tr>\n",
       "    <tr>\n",
       "      <th>3566</th>\n",
       "      <td>P00371644</td>\n",
       "      <td>362.911012</td>\n",
       "    </tr>\n",
       "    <tr>\n",
       "      <th>3565</th>\n",
       "      <td>P00370853</td>\n",
       "      <td>37.393643</td>\n",
       "    </tr>\n",
       "    <tr>\n",
       "      <th>3560</th>\n",
       "      <td>P00370293</td>\n",
       "      <td>36.675159</td>\n",
       "    </tr>\n",
       "  </tbody>\n",
       "</table>\n",
       "<p>3631 rows × 2 columns</p>\n",
       "</div>"
      ],
      "text/plain": [
       "     Product_ID  Mean_purchase_value\n",
       "836   P00086242         21256.505495\n",
       "827   P00085342         20980.268116\n",
       "1902  P00200642         20468.773234\n",
       "1070  P00116142         20463.791277\n",
       "1102  P00119342         20448.756494\n",
       "...         ...                  ...\n",
       "3567  P00372445           374.930705\n",
       "3568  P00375436           374.266585\n",
       "3566  P00371644           362.911012\n",
       "3565  P00370853            37.393643\n",
       "3560  P00370293            36.675159\n",
       "\n",
       "[3631 rows x 2 columns]"
      ]
     },
     "execution_count": 53,
     "metadata": {},
     "output_type": "execute_result"
    }
   ],
   "source": [
    "prod_purchase.sort_values(\"Mean_purchase_value\",ascending=False)"
   ]
  },
  {
   "cell_type": "code",
   "execution_count": 54,
   "id": "b0d2f3a1",
   "metadata": {},
   "outputs": [],
   "source": [
    "# therefore we can conclude from this that many products are associated with these product id's "
   ]
  },
  {
   "cell_type": "code",
   "execution_count": 55,
   "id": "dd2690d5",
   "metadata": {},
   "outputs": [
    {
     "data": {
      "text/html": [
       "<div>\n",
       "<style scoped>\n",
       "    .dataframe tbody tr th:only-of-type {\n",
       "        vertical-align: middle;\n",
       "    }\n",
       "\n",
       "    .dataframe tbody tr th {\n",
       "        vertical-align: top;\n",
       "    }\n",
       "\n",
       "    .dataframe thead th {\n",
       "        text-align: right;\n",
       "    }\n",
       "</style>\n",
       "<table border=\"1\" class=\"dataframe\">\n",
       "  <thead>\n",
       "    <tr style=\"text-align: right;\">\n",
       "      <th></th>\n",
       "      <th>Product_ID</th>\n",
       "      <th>category_count</th>\n",
       "    </tr>\n",
       "  </thead>\n",
       "  <tbody>\n",
       "    <tr>\n",
       "      <th>2942</th>\n",
       "      <td>P00306942</td>\n",
       "      <td>1</td>\n",
       "    </tr>\n",
       "    <tr>\n",
       "      <th>2968</th>\n",
       "      <td>P00309642</td>\n",
       "      <td>1</td>\n",
       "    </tr>\n",
       "    <tr>\n",
       "      <th>2962</th>\n",
       "      <td>P00309042</td>\n",
       "      <td>1</td>\n",
       "    </tr>\n",
       "    <tr>\n",
       "      <th>3340</th>\n",
       "      <td>P00348142</td>\n",
       "      <td>1</td>\n",
       "    </tr>\n",
       "    <tr>\n",
       "      <th>2953</th>\n",
       "      <td>P00308042</td>\n",
       "      <td>1</td>\n",
       "    </tr>\n",
       "    <tr>\n",
       "      <th>...</th>\n",
       "      <td>...</td>\n",
       "      <td>...</td>\n",
       "    </tr>\n",
       "    <tr>\n",
       "      <th>565</th>\n",
       "      <td>P00057642</td>\n",
       "      <td>1470</td>\n",
       "    </tr>\n",
       "    <tr>\n",
       "      <th>1030</th>\n",
       "      <td>P00112142</td>\n",
       "      <td>1562</td>\n",
       "    </tr>\n",
       "    <tr>\n",
       "      <th>1016</th>\n",
       "      <td>P00110742</td>\n",
       "      <td>1612</td>\n",
       "    </tr>\n",
       "    <tr>\n",
       "      <th>249</th>\n",
       "      <td>P00025442</td>\n",
       "      <td>1615</td>\n",
       "    </tr>\n",
       "    <tr>\n",
       "      <th>2536</th>\n",
       "      <td>P00265242</td>\n",
       "      <td>1880</td>\n",
       "    </tr>\n",
       "  </tbody>\n",
       "</table>\n",
       "<p>3631 rows × 2 columns</p>\n",
       "</div>"
      ],
      "text/plain": [
       "     Product_ID  category_count\n",
       "2942  P00306942               1\n",
       "2968  P00309642               1\n",
       "2962  P00309042               1\n",
       "3340  P00348142               1\n",
       "2953  P00308042               1\n",
       "...         ...             ...\n",
       "565   P00057642            1470\n",
       "1030  P00112142            1562\n",
       "1016  P00110742            1612\n",
       "249   P00025442            1615\n",
       "2536  P00265242            1880\n",
       "\n",
       "[3631 rows x 2 columns]"
      ]
     },
     "execution_count": 55,
     "metadata": {},
     "output_type": "execute_result"
    }
   ],
   "source": [
    "count_purchase=x1.groupby([\"Product_ID\"]).Purchase.agg(\"count\").to_frame(\"category_count\").reset_index()\n",
    "count_purchase.sort_values(\"category_count\",ascending=True)"
   ]
  },
  {
   "cell_type": "code",
   "execution_count": 56,
   "id": "3bc7ebc1",
   "metadata": {},
   "outputs": [
    {
     "data": {
      "text/html": [
       "<div>\n",
       "<style scoped>\n",
       "    .dataframe tbody tr th:only-of-type {\n",
       "        vertical-align: middle;\n",
       "    }\n",
       "\n",
       "    .dataframe tbody tr th {\n",
       "        vertical-align: top;\n",
       "    }\n",
       "\n",
       "    .dataframe thead th {\n",
       "        text-align: right;\n",
       "    }\n",
       "</style>\n",
       "<table border=\"1\" class=\"dataframe\">\n",
       "  <thead>\n",
       "    <tr style=\"text-align: right;\">\n",
       "      <th></th>\n",
       "      <th>Product_ID</th>\n",
       "      <th>count_of_products</th>\n",
       "    </tr>\n",
       "  </thead>\n",
       "  <tbody>\n",
       "    <tr>\n",
       "      <th>2536</th>\n",
       "      <td>P00265242</td>\n",
       "      <td>1880</td>\n",
       "    </tr>\n",
       "    <tr>\n",
       "      <th>249</th>\n",
       "      <td>P00025442</td>\n",
       "      <td>1615</td>\n",
       "    </tr>\n",
       "    <tr>\n",
       "      <th>1016</th>\n",
       "      <td>P00110742</td>\n",
       "      <td>1612</td>\n",
       "    </tr>\n",
       "    <tr>\n",
       "      <th>1030</th>\n",
       "      <td>P00112142</td>\n",
       "      <td>1562</td>\n",
       "    </tr>\n",
       "    <tr>\n",
       "      <th>565</th>\n",
       "      <td>P00057642</td>\n",
       "      <td>1470</td>\n",
       "    </tr>\n",
       "    <tr>\n",
       "      <th>...</th>\n",
       "      <td>...</td>\n",
       "      <td>...</td>\n",
       "    </tr>\n",
       "    <tr>\n",
       "      <th>669</th>\n",
       "      <td>P00068742</td>\n",
       "      <td>1</td>\n",
       "    </tr>\n",
       "    <tr>\n",
       "      <th>120</th>\n",
       "      <td>P00012342</td>\n",
       "      <td>1</td>\n",
       "    </tr>\n",
       "    <tr>\n",
       "      <th>1530</th>\n",
       "      <td>P00162742</td>\n",
       "      <td>1</td>\n",
       "    </tr>\n",
       "    <tr>\n",
       "      <th>891</th>\n",
       "      <td>P00091742</td>\n",
       "      <td>1</td>\n",
       "    </tr>\n",
       "    <tr>\n",
       "      <th>2206</th>\n",
       "      <td>P00231642</td>\n",
       "      <td>1</td>\n",
       "    </tr>\n",
       "  </tbody>\n",
       "</table>\n",
       "<p>3631 rows × 2 columns</p>\n",
       "</div>"
      ],
      "text/plain": [
       "     Product_ID  count_of_products\n",
       "2536  P00265242               1880\n",
       "249   P00025442               1615\n",
       "1016  P00110742               1612\n",
       "1030  P00112142               1562\n",
       "565   P00057642               1470\n",
       "...         ...                ...\n",
       "669   P00068742                  1\n",
       "120   P00012342                  1\n",
       "1530  P00162742                  1\n",
       "891   P00091742                  1\n",
       "2206  P00231642                  1\n",
       "\n",
       "[3631 rows x 2 columns]"
      ]
     },
     "execution_count": 56,
     "metadata": {},
     "output_type": "execute_result"
    }
   ],
   "source": [
    "count_purchase=x1.groupby([\"Product_ID\"]).Purchase.agg(\"count\").to_frame(\"count_of_products\").reset_index()\n",
    "count_purchase.sort_values(\"count_of_products\",ascending=False)"
   ]
  },
  {
   "cell_type": "code",
   "execution_count": 57,
   "id": "78c8a202",
   "metadata": {},
   "outputs": [
    {
     "data": {
      "text/html": [
       "<div>\n",
       "<style scoped>\n",
       "    .dataframe tbody tr th:only-of-type {\n",
       "        vertical-align: middle;\n",
       "    }\n",
       "\n",
       "    .dataframe tbody tr th {\n",
       "        vertical-align: top;\n",
       "    }\n",
       "\n",
       "    .dataframe thead th {\n",
       "        text-align: right;\n",
       "    }\n",
       "</style>\n",
       "<table border=\"1\" class=\"dataframe\">\n",
       "  <thead>\n",
       "    <tr style=\"text-align: right;\">\n",
       "      <th></th>\n",
       "      <th>Product_ID</th>\n",
       "    </tr>\n",
       "  </thead>\n",
       "  <tbody>\n",
       "    <tr>\n",
       "      <th>0</th>\n",
       "      <td>P00069042</td>\n",
       "    </tr>\n",
       "    <tr>\n",
       "      <th>1</th>\n",
       "      <td>P00248942</td>\n",
       "    </tr>\n",
       "    <tr>\n",
       "      <th>2</th>\n",
       "      <td>P00087842</td>\n",
       "    </tr>\n",
       "    <tr>\n",
       "      <th>3</th>\n",
       "      <td>P00085442</td>\n",
       "    </tr>\n",
       "    <tr>\n",
       "      <th>4</th>\n",
       "      <td>P00285442</td>\n",
       "    </tr>\n",
       "    <tr>\n",
       "      <th>...</th>\n",
       "      <td>...</td>\n",
       "    </tr>\n",
       "    <tr>\n",
       "      <th>3626</th>\n",
       "      <td>P00375436</td>\n",
       "    </tr>\n",
       "    <tr>\n",
       "      <th>3627</th>\n",
       "      <td>P00372445</td>\n",
       "    </tr>\n",
       "    <tr>\n",
       "      <th>3628</th>\n",
       "      <td>P00370293</td>\n",
       "    </tr>\n",
       "    <tr>\n",
       "      <th>3629</th>\n",
       "      <td>P00371644</td>\n",
       "    </tr>\n",
       "    <tr>\n",
       "      <th>3630</th>\n",
       "      <td>P00370853</td>\n",
       "    </tr>\n",
       "  </tbody>\n",
       "</table>\n",
       "<p>3631 rows × 1 columns</p>\n",
       "</div>"
      ],
      "text/plain": [
       "     Product_ID\n",
       "0     P00069042\n",
       "1     P00248942\n",
       "2     P00087842\n",
       "3     P00085442\n",
       "4     P00285442\n",
       "...         ...\n",
       "3626  P00375436\n",
       "3627  P00372445\n",
       "3628  P00370293\n",
       "3629  P00371644\n",
       "3630  P00370853\n",
       "\n",
       "[3631 rows x 1 columns]"
      ]
     },
     "execution_count": 57,
     "metadata": {},
     "output_type": "execute_result"
    }
   ],
   "source": [
    "unique=pd.DataFrame(x1.Product_ID.unique(),columns=[\"Product_ID\"])\n",
    "unique"
   ]
  },
  {
   "cell_type": "code",
   "execution_count": 58,
   "id": "5e512668",
   "metadata": {},
   "outputs": [],
   "source": [
    "from sklearn.preprocessing import MinMaxScaler\n",
    "scaler=MinMaxScaler(feature_range=(0,1))\n",
    "count_purchase[\"product_popularity_score\"]=scaler.fit_transform(count_purchase[[\"count_of_products\"]])"
   ]
  },
  {
   "cell_type": "code",
   "execution_count": 59,
   "id": "c80ce393",
   "metadata": {},
   "outputs": [
    {
     "data": {
      "text/html": [
       "<div>\n",
       "<style scoped>\n",
       "    .dataframe tbody tr th:only-of-type {\n",
       "        vertical-align: middle;\n",
       "    }\n",
       "\n",
       "    .dataframe tbody tr th {\n",
       "        vertical-align: top;\n",
       "    }\n",
       "\n",
       "    .dataframe thead th {\n",
       "        text-align: right;\n",
       "    }\n",
       "</style>\n",
       "<table border=\"1\" class=\"dataframe\">\n",
       "  <thead>\n",
       "    <tr style=\"text-align: right;\">\n",
       "      <th></th>\n",
       "      <th>Product_ID</th>\n",
       "      <th>count_of_products</th>\n",
       "      <th>product_popularity_score</th>\n",
       "    </tr>\n",
       "  </thead>\n",
       "  <tbody>\n",
       "    <tr>\n",
       "      <th>0</th>\n",
       "      <td>P00000142</td>\n",
       "      <td>1152</td>\n",
       "      <td>0.612560</td>\n",
       "    </tr>\n",
       "    <tr>\n",
       "      <th>1</th>\n",
       "      <td>P00000242</td>\n",
       "      <td>376</td>\n",
       "      <td>0.199574</td>\n",
       "    </tr>\n",
       "    <tr>\n",
       "      <th>2</th>\n",
       "      <td>P00000342</td>\n",
       "      <td>244</td>\n",
       "      <td>0.129324</td>\n",
       "    </tr>\n",
       "    <tr>\n",
       "      <th>3</th>\n",
       "      <td>P00000442</td>\n",
       "      <td>92</td>\n",
       "      <td>0.048430</td>\n",
       "    </tr>\n",
       "    <tr>\n",
       "      <th>4</th>\n",
       "      <td>P00000542</td>\n",
       "      <td>149</td>\n",
       "      <td>0.078765</td>\n",
       "    </tr>\n",
       "    <tr>\n",
       "      <th>...</th>\n",
       "      <td>...</td>\n",
       "      <td>...</td>\n",
       "      <td>...</td>\n",
       "    </tr>\n",
       "    <tr>\n",
       "      <th>3626</th>\n",
       "      <td>P0099442</td>\n",
       "      <td>200</td>\n",
       "      <td>0.105907</td>\n",
       "    </tr>\n",
       "    <tr>\n",
       "      <th>3627</th>\n",
       "      <td>P0099642</td>\n",
       "      <td>13</td>\n",
       "      <td>0.006386</td>\n",
       "    </tr>\n",
       "    <tr>\n",
       "      <th>3628</th>\n",
       "      <td>P0099742</td>\n",
       "      <td>126</td>\n",
       "      <td>0.066525</td>\n",
       "    </tr>\n",
       "    <tr>\n",
       "      <th>3629</th>\n",
       "      <td>P0099842</td>\n",
       "      <td>102</td>\n",
       "      <td>0.053752</td>\n",
       "    </tr>\n",
       "    <tr>\n",
       "      <th>3630</th>\n",
       "      <td>P0099942</td>\n",
       "      <td>14</td>\n",
       "      <td>0.006919</td>\n",
       "    </tr>\n",
       "  </tbody>\n",
       "</table>\n",
       "<p>3631 rows × 3 columns</p>\n",
       "</div>"
      ],
      "text/plain": [
       "     Product_ID  count_of_products  product_popularity_score\n",
       "0     P00000142               1152                  0.612560\n",
       "1     P00000242                376                  0.199574\n",
       "2     P00000342                244                  0.129324\n",
       "3     P00000442                 92                  0.048430\n",
       "4     P00000542                149                  0.078765\n",
       "...         ...                ...                       ...\n",
       "3626   P0099442                200                  0.105907\n",
       "3627   P0099642                 13                  0.006386\n",
       "3628   P0099742                126                  0.066525\n",
       "3629   P0099842                102                  0.053752\n",
       "3630   P0099942                 14                  0.006919\n",
       "\n",
       "[3631 rows x 3 columns]"
      ]
     },
     "execution_count": 59,
     "metadata": {},
     "output_type": "execute_result"
    }
   ],
   "source": [
    "count_purchase"
   ]
  },
  {
   "cell_type": "code",
   "execution_count": 60,
   "id": "da3c3d12",
   "metadata": {},
   "outputs": [],
   "source": [
    "product_scores=pd.merge(unique,count_purchase)"
   ]
  },
  {
   "cell_type": "code",
   "execution_count": 61,
   "id": "50751bb0",
   "metadata": {},
   "outputs": [],
   "source": [
    "product_scores.drop(columns=['count_of_products'],inplace=True)\n",
    "\n"
   ]
  },
  {
   "cell_type": "code",
   "execution_count": 62,
   "id": "b523c312",
   "metadata": {},
   "outputs": [
    {
     "data": {
      "text/html": [
       "<div>\n",
       "<style scoped>\n",
       "    .dataframe tbody tr th:only-of-type {\n",
       "        vertical-align: middle;\n",
       "    }\n",
       "\n",
       "    .dataframe tbody tr th {\n",
       "        vertical-align: top;\n",
       "    }\n",
       "\n",
       "    .dataframe thead th {\n",
       "        text-align: right;\n",
       "    }\n",
       "</style>\n",
       "<table border=\"1\" class=\"dataframe\">\n",
       "  <thead>\n",
       "    <tr style=\"text-align: right;\">\n",
       "      <th></th>\n",
       "      <th>Product_ID</th>\n",
       "      <th>product_popularity_score</th>\n",
       "    </tr>\n",
       "  </thead>\n",
       "  <tbody>\n",
       "    <tr>\n",
       "      <th>0</th>\n",
       "      <td>P00069042</td>\n",
       "      <td>0.120277</td>\n",
       "    </tr>\n",
       "    <tr>\n",
       "      <th>1</th>\n",
       "      <td>P00248942</td>\n",
       "      <td>0.308675</td>\n",
       "    </tr>\n",
       "    <tr>\n",
       "      <th>2</th>\n",
       "      <td>P00087842</td>\n",
       "      <td>0.053752</td>\n",
       "    </tr>\n",
       "    <tr>\n",
       "      <th>3</th>\n",
       "      <td>P00085442</td>\n",
       "      <td>0.180947</td>\n",
       "    </tr>\n",
       "    <tr>\n",
       "      <th>4</th>\n",
       "      <td>P00285442</td>\n",
       "      <td>0.107504</td>\n",
       "    </tr>\n",
       "    <tr>\n",
       "      <th>...</th>\n",
       "      <td>...</td>\n",
       "      <td>...</td>\n",
       "    </tr>\n",
       "    <tr>\n",
       "      <th>3626</th>\n",
       "      <td>P00375436</td>\n",
       "      <td>0.432677</td>\n",
       "    </tr>\n",
       "    <tr>\n",
       "      <th>3627</th>\n",
       "      <td>P00372445</td>\n",
       "      <td>0.444918</td>\n",
       "    </tr>\n",
       "    <tr>\n",
       "      <th>3628</th>\n",
       "      <td>P00370293</td>\n",
       "      <td>0.417243</td>\n",
       "    </tr>\n",
       "    <tr>\n",
       "      <th>3629</th>\n",
       "      <td>P00371644</td>\n",
       "      <td>0.477914</td>\n",
       "    </tr>\n",
       "    <tr>\n",
       "      <th>3630</th>\n",
       "      <td>P00370853</td>\n",
       "      <td>0.434806</td>\n",
       "    </tr>\n",
       "  </tbody>\n",
       "</table>\n",
       "<p>3631 rows × 2 columns</p>\n",
       "</div>"
      ],
      "text/plain": [
       "     Product_ID  product_popularity_score\n",
       "0     P00069042                  0.120277\n",
       "1     P00248942                  0.308675\n",
       "2     P00087842                  0.053752\n",
       "3     P00085442                  0.180947\n",
       "4     P00285442                  0.107504\n",
       "...         ...                       ...\n",
       "3626  P00375436                  0.432677\n",
       "3627  P00372445                  0.444918\n",
       "3628  P00370293                  0.417243\n",
       "3629  P00371644                  0.477914\n",
       "3630  P00370853                  0.434806\n",
       "\n",
       "[3631 rows x 2 columns]"
      ]
     },
     "execution_count": 62,
     "metadata": {},
     "output_type": "execute_result"
    }
   ],
   "source": [
    "product_scores"
   ]
  },
  {
   "cell_type": "code",
   "execution_count": 63,
   "id": "8d3002f9",
   "metadata": {},
   "outputs": [],
   "source": [
    "# adding this to train and test dataset"
   ]
  },
  {
   "cell_type": "code",
   "execution_count": 64,
   "id": "f15e1f3d",
   "metadata": {},
   "outputs": [],
   "source": [
    "product_dict= dict(zip(product_scores.Product_ID,product_scores.product_popularity_score))\n",
    "x1[\"product_popularity_score\"]=x1[\"Product_ID\"].map(product_dict)\n",
    "x2[\"product_popularity_score\"]=x2[\"Product_ID\"].map(product_dict)"
   ]
  },
  {
   "cell_type": "code",
   "execution_count": 65,
   "id": "f61ae118",
   "metadata": {},
   "outputs": [
    {
     "data": {
      "text/html": [
       "<div>\n",
       "<style scoped>\n",
       "    .dataframe tbody tr th:only-of-type {\n",
       "        vertical-align: middle;\n",
       "    }\n",
       "\n",
       "    .dataframe tbody tr th {\n",
       "        vertical-align: top;\n",
       "    }\n",
       "\n",
       "    .dataframe thead th {\n",
       "        text-align: right;\n",
       "    }\n",
       "</style>\n",
       "<table border=\"1\" class=\"dataframe\">\n",
       "  <thead>\n",
       "    <tr style=\"text-align: right;\">\n",
       "      <th></th>\n",
       "      <th>User_ID</th>\n",
       "      <th>Product_ID</th>\n",
       "      <th>Gender</th>\n",
       "      <th>Age</th>\n",
       "      <th>Occupation</th>\n",
       "      <th>City_Category</th>\n",
       "      <th>Stay_In_Current_City_Years</th>\n",
       "      <th>Marital_Status</th>\n",
       "      <th>Product_Category_1</th>\n",
       "      <th>Product_Category_2</th>\n",
       "      <th>Product_Category_3</th>\n",
       "      <th>Purchase</th>\n",
       "      <th>product_popularity_score</th>\n",
       "    </tr>\n",
       "  </thead>\n",
       "  <tbody>\n",
       "    <tr>\n",
       "      <th>0</th>\n",
       "      <td>1000001</td>\n",
       "      <td>P00069042</td>\n",
       "      <td>0</td>\n",
       "      <td>1</td>\n",
       "      <td>10</td>\n",
       "      <td>1</td>\n",
       "      <td>2</td>\n",
       "      <td>0</td>\n",
       "      <td>3</td>\n",
       "      <td>0.0</td>\n",
       "      <td>0.0</td>\n",
       "      <td>8370</td>\n",
       "      <td>0.120277</td>\n",
       "    </tr>\n",
       "    <tr>\n",
       "      <th>1</th>\n",
       "      <td>1000001</td>\n",
       "      <td>P00248942</td>\n",
       "      <td>0</td>\n",
       "      <td>1</td>\n",
       "      <td>10</td>\n",
       "      <td>1</td>\n",
       "      <td>2</td>\n",
       "      <td>0</td>\n",
       "      <td>1</td>\n",
       "      <td>6.0</td>\n",
       "      <td>14.0</td>\n",
       "      <td>15200</td>\n",
       "      <td>0.308675</td>\n",
       "    </tr>\n",
       "    <tr>\n",
       "      <th>2</th>\n",
       "      <td>1000001</td>\n",
       "      <td>P00087842</td>\n",
       "      <td>0</td>\n",
       "      <td>1</td>\n",
       "      <td>10</td>\n",
       "      <td>1</td>\n",
       "      <td>2</td>\n",
       "      <td>0</td>\n",
       "      <td>12</td>\n",
       "      <td>0.0</td>\n",
       "      <td>0.0</td>\n",
       "      <td>1422</td>\n",
       "      <td>0.053752</td>\n",
       "    </tr>\n",
       "    <tr>\n",
       "      <th>3</th>\n",
       "      <td>1000001</td>\n",
       "      <td>P00085442</td>\n",
       "      <td>0</td>\n",
       "      <td>1</td>\n",
       "      <td>10</td>\n",
       "      <td>1</td>\n",
       "      <td>2</td>\n",
       "      <td>0</td>\n",
       "      <td>12</td>\n",
       "      <td>14.0</td>\n",
       "      <td>0.0</td>\n",
       "      <td>1057</td>\n",
       "      <td>0.180947</td>\n",
       "    </tr>\n",
       "    <tr>\n",
       "      <th>4</th>\n",
       "      <td>1000002</td>\n",
       "      <td>P00285442</td>\n",
       "      <td>1</td>\n",
       "      <td>7</td>\n",
       "      <td>16</td>\n",
       "      <td>3</td>\n",
       "      <td>4</td>\n",
       "      <td>0</td>\n",
       "      <td>8</td>\n",
       "      <td>0.0</td>\n",
       "      <td>0.0</td>\n",
       "      <td>7969</td>\n",
       "      <td>0.107504</td>\n",
       "    </tr>\n",
       "    <tr>\n",
       "      <th>...</th>\n",
       "      <td>...</td>\n",
       "      <td>...</td>\n",
       "      <td>...</td>\n",
       "      <td>...</td>\n",
       "      <td>...</td>\n",
       "      <td>...</td>\n",
       "      <td>...</td>\n",
       "      <td>...</td>\n",
       "      <td>...</td>\n",
       "      <td>...</td>\n",
       "      <td>...</td>\n",
       "      <td>...</td>\n",
       "      <td>...</td>\n",
       "    </tr>\n",
       "    <tr>\n",
       "      <th>550063</th>\n",
       "      <td>1006033</td>\n",
       "      <td>P00372445</td>\n",
       "      <td>1</td>\n",
       "      <td>6</td>\n",
       "      <td>13</td>\n",
       "      <td>2</td>\n",
       "      <td>1</td>\n",
       "      <td>1</td>\n",
       "      <td>20</td>\n",
       "      <td>0.0</td>\n",
       "      <td>0.0</td>\n",
       "      <td>368</td>\n",
       "      <td>0.444918</td>\n",
       "    </tr>\n",
       "    <tr>\n",
       "      <th>550064</th>\n",
       "      <td>1006035</td>\n",
       "      <td>P00375436</td>\n",
       "      <td>0</td>\n",
       "      <td>3</td>\n",
       "      <td>1</td>\n",
       "      <td>3</td>\n",
       "      <td>3</td>\n",
       "      <td>0</td>\n",
       "      <td>20</td>\n",
       "      <td>0.0</td>\n",
       "      <td>0.0</td>\n",
       "      <td>371</td>\n",
       "      <td>0.432677</td>\n",
       "    </tr>\n",
       "    <tr>\n",
       "      <th>550065</th>\n",
       "      <td>1006036</td>\n",
       "      <td>P00375436</td>\n",
       "      <td>0</td>\n",
       "      <td>3</td>\n",
       "      <td>15</td>\n",
       "      <td>2</td>\n",
       "      <td>4</td>\n",
       "      <td>1</td>\n",
       "      <td>20</td>\n",
       "      <td>0.0</td>\n",
       "      <td>0.0</td>\n",
       "      <td>137</td>\n",
       "      <td>0.432677</td>\n",
       "    </tr>\n",
       "    <tr>\n",
       "      <th>550066</th>\n",
       "      <td>1006038</td>\n",
       "      <td>P00375436</td>\n",
       "      <td>0</td>\n",
       "      <td>7</td>\n",
       "      <td>1</td>\n",
       "      <td>3</td>\n",
       "      <td>2</td>\n",
       "      <td>0</td>\n",
       "      <td>20</td>\n",
       "      <td>0.0</td>\n",
       "      <td>0.0</td>\n",
       "      <td>365</td>\n",
       "      <td>0.432677</td>\n",
       "    </tr>\n",
       "    <tr>\n",
       "      <th>550067</th>\n",
       "      <td>1006039</td>\n",
       "      <td>P00371644</td>\n",
       "      <td>0</td>\n",
       "      <td>5</td>\n",
       "      <td>0</td>\n",
       "      <td>2</td>\n",
       "      <td>4</td>\n",
       "      <td>1</td>\n",
       "      <td>20</td>\n",
       "      <td>0.0</td>\n",
       "      <td>0.0</td>\n",
       "      <td>490</td>\n",
       "      <td>0.477914</td>\n",
       "    </tr>\n",
       "  </tbody>\n",
       "</table>\n",
       "<p>550068 rows × 13 columns</p>\n",
       "</div>"
      ],
      "text/plain": [
       "        User_ID Product_ID  Gender  Age  Occupation  City_Category  \\\n",
       "0       1000001  P00069042       0    1          10              1   \n",
       "1       1000001  P00248942       0    1          10              1   \n",
       "2       1000001  P00087842       0    1          10              1   \n",
       "3       1000001  P00085442       0    1          10              1   \n",
       "4       1000002  P00285442       1    7          16              3   \n",
       "...         ...        ...     ...  ...         ...            ...   \n",
       "550063  1006033  P00372445       1    6          13              2   \n",
       "550064  1006035  P00375436       0    3           1              3   \n",
       "550065  1006036  P00375436       0    3          15              2   \n",
       "550066  1006038  P00375436       0    7           1              3   \n",
       "550067  1006039  P00371644       0    5           0              2   \n",
       "\n",
       "        Stay_In_Current_City_Years  Marital_Status  Product_Category_1  \\\n",
       "0                                2               0                   3   \n",
       "1                                2               0                   1   \n",
       "2                                2               0                  12   \n",
       "3                                2               0                  12   \n",
       "4                                4               0                   8   \n",
       "...                            ...             ...                 ...   \n",
       "550063                           1               1                  20   \n",
       "550064                           3               0                  20   \n",
       "550065                           4               1                  20   \n",
       "550066                           2               0                  20   \n",
       "550067                           4               1                  20   \n",
       "\n",
       "        Product_Category_2  Product_Category_3  Purchase  \\\n",
       "0                      0.0                 0.0      8370   \n",
       "1                      6.0                14.0     15200   \n",
       "2                      0.0                 0.0      1422   \n",
       "3                     14.0                 0.0      1057   \n",
       "4                      0.0                 0.0      7969   \n",
       "...                    ...                 ...       ...   \n",
       "550063                 0.0                 0.0       368   \n",
       "550064                 0.0                 0.0       371   \n",
       "550065                 0.0                 0.0       137   \n",
       "550066                 0.0                 0.0       365   \n",
       "550067                 0.0                 0.0       490   \n",
       "\n",
       "        product_popularity_score  \n",
       "0                       0.120277  \n",
       "1                       0.308675  \n",
       "2                       0.053752  \n",
       "3                       0.180947  \n",
       "4                       0.107504  \n",
       "...                          ...  \n",
       "550063                  0.444918  \n",
       "550064                  0.432677  \n",
       "550065                  0.432677  \n",
       "550066                  0.432677  \n",
       "550067                  0.477914  \n",
       "\n",
       "[550068 rows x 13 columns]"
      ]
     },
     "execution_count": 65,
     "metadata": {},
     "output_type": "execute_result"
    }
   ],
   "source": [
    "x1"
   ]
  },
  {
   "cell_type": "code",
   "execution_count": 66,
   "id": "f2e8670d",
   "metadata": {},
   "outputs": [],
   "source": [
    "df1=x2.drop(columns=[\"User_ID\",\"Product_ID\"])     # test_data\n",
    "df=x1.drop(columns=[\"User_ID\",\"Product_ID\"])"
   ]
  },
  {
   "cell_type": "code",
   "execution_count": null,
   "id": "7d6c9aa6",
   "metadata": {},
   "outputs": [],
   "source": []
  },
  {
   "cell_type": "code",
   "execution_count": 67,
   "id": "45c0cde0",
   "metadata": {},
   "outputs": [
    {
     "data": {
      "image/png": "[encoded data removed]",
      "text/plain": [
       "<Figure size 640x480 with 1 Axes>"
      ]
     },
     "metadata": {},
     "output_type": "display_data"
    }
   ],
   "source": [
    "pd.crosstab(df['City_Category'], df['Gender']).plot(kind='bar', stacked=True);\n",
    "plt.title('City_Category distribtuion')\n",
    "plt.show()"
   ]
  },
  {
   "cell_type": "code",
   "execution_count": 68,
   "id": "e6e6df7e",
   "metadata": {},
   "outputs": [],
   "source": [
    "\n",
    "# there are more no of males in every city compared to females"
   ]
  },
  {
   "cell_type": "code",
   "execution_count": 69,
   "id": "d2e66078",
   "metadata": {},
   "outputs": [
    {
     "data": {
      "image/png": "[encoded data removed]",
      "text/plain": [
       "<Figure size 640x480 with 1 Axes>"
      ]
     },
     "metadata": {},
     "output_type": "display_data"
    }
   ],
   "source": [
    "pd.crosstab(df['Age'], df['Gender']).plot(kind='bar', stacked=True);\n",
    "plt.title('age distribtuion')\n",
    "plt.show()"
   ]
  },
  {
   "cell_type": "code",
   "execution_count": 70,
   "id": "d2782107",
   "metadata": {},
   "outputs": [],
   "source": [
    "#more no of males are there between  26-35 years of age\n",
    "#0-17,55+ category- very less males & females\n"
   ]
  },
  {
   "cell_type": "code",
   "execution_count": 71,
   "id": "9a0bb955",
   "metadata": {},
   "outputs": [
    {
     "data": {
      "image/png": "[encoded data removed]",
      "text/plain": [
       "<Figure size 640x480 with 1 Axes>"
      ]
     },
     "metadata": {},
     "output_type": "display_data"
    }
   ],
   "source": [
    "pd.crosstab(df['Marital_Status'], df['Gender']).plot(kind='bar', stacked=True);\n",
    "plt.title('marital status distribtuion')\n",
    "plt.show()"
   ]
  },
  {
   "cell_type": "code",
   "execution_count": 72,
   "id": "3b885ab0",
   "metadata": {},
   "outputs": [],
   "source": [
    "# most of the males are unmarried than females \n"
   ]
  },
  {
   "cell_type": "code",
   "execution_count": 73,
   "id": "2f597ef4",
   "metadata": {},
   "outputs": [],
   "source": [
    "# checking for outliers "
   ]
  },
  {
   "cell_type": "code",
   "execution_count": 74,
   "id": "8aea86e5",
   "metadata": {},
   "outputs": [
    {
     "data": {
      "text/html": [
       "<div>\n",
       "<style scoped>\n",
       "    .dataframe tbody tr th:only-of-type {\n",
       "        vertical-align: middle;\n",
       "    }\n",
       "\n",
       "    .dataframe tbody tr th {\n",
       "        vertical-align: top;\n",
       "    }\n",
       "\n",
       "    .dataframe thead th {\n",
       "        text-align: right;\n",
       "    }\n",
       "</style>\n",
       "<table border=\"1\" class=\"dataframe\">\n",
       "  <thead>\n",
       "    <tr style=\"text-align: right;\">\n",
       "      <th></th>\n",
       "      <th>count</th>\n",
       "      <th>mean</th>\n",
       "      <th>std</th>\n",
       "      <th>min</th>\n",
       "      <th>1%</th>\n",
       "      <th>2%</th>\n",
       "      <th>3%</th>\n",
       "      <th>4%</th>\n",
       "      <th>5%</th>\n",
       "      <th>10%</th>\n",
       "      <th>25%</th>\n",
       "      <th>50%</th>\n",
       "      <th>75%</th>\n",
       "      <th>90%</th>\n",
       "      <th>95%</th>\n",
       "      <th>96%</th>\n",
       "      <th>97%</th>\n",
       "      <th>98%</th>\n",
       "      <th>99%</th>\n",
       "      <th>max</th>\n",
       "    </tr>\n",
       "  </thead>\n",
       "  <tbody>\n",
       "    <tr>\n",
       "      <th>Gender</th>\n",
       "      <td>550068.0</td>\n",
       "      <td>0.753105</td>\n",
       "      <td>0.431205</td>\n",
       "      <td>0.0</td>\n",
       "      <td>0.000000</td>\n",
       "      <td>0.000000</td>\n",
       "      <td>0.00000</td>\n",
       "      <td>0.000000</td>\n",
       "      <td>0.000000</td>\n",
       "      <td>0.000000</td>\n",
       "      <td>1.00000</td>\n",
       "      <td>1.000000</td>\n",
       "      <td>1.000000</td>\n",
       "      <td>1.000000</td>\n",
       "      <td>1.000000</td>\n",
       "      <td>1.000000</td>\n",
       "      <td>1.000000</td>\n",
       "      <td>1.000000</td>\n",
       "      <td>1.000000</td>\n",
       "      <td>1.0</td>\n",
       "    </tr>\n",
       "    <tr>\n",
       "      <th>Age</th>\n",
       "      <td>550068.0</td>\n",
       "      <td>3.496430</td>\n",
       "      <td>1.353632</td>\n",
       "      <td>1.0</td>\n",
       "      <td>1.000000</td>\n",
       "      <td>1.000000</td>\n",
       "      <td>2.00000</td>\n",
       "      <td>2.000000</td>\n",
       "      <td>2.000000</td>\n",
       "      <td>2.000000</td>\n",
       "      <td>3.00000</td>\n",
       "      <td>3.000000</td>\n",
       "      <td>4.000000</td>\n",
       "      <td>6.000000</td>\n",
       "      <td>6.000000</td>\n",
       "      <td>6.000000</td>\n",
       "      <td>7.000000</td>\n",
       "      <td>7.000000</td>\n",
       "      <td>7.000000</td>\n",
       "      <td>7.0</td>\n",
       "    </tr>\n",
       "    <tr>\n",
       "      <th>Occupation</th>\n",
       "      <td>550068.0</td>\n",
       "      <td>8.076707</td>\n",
       "      <td>6.522660</td>\n",
       "      <td>0.0</td>\n",
       "      <td>0.000000</td>\n",
       "      <td>0.000000</td>\n",
       "      <td>0.00000</td>\n",
       "      <td>0.000000</td>\n",
       "      <td>0.000000</td>\n",
       "      <td>0.000000</td>\n",
       "      <td>2.00000</td>\n",
       "      <td>7.000000</td>\n",
       "      <td>14.000000</td>\n",
       "      <td>17.000000</td>\n",
       "      <td>20.000000</td>\n",
       "      <td>20.000000</td>\n",
       "      <td>20.000000</td>\n",
       "      <td>20.000000</td>\n",
       "      <td>20.000000</td>\n",
       "      <td>20.0</td>\n",
       "    </tr>\n",
       "    <tr>\n",
       "      <th>City_Category</th>\n",
       "      <td>550068.0</td>\n",
       "      <td>2.042640</td>\n",
       "      <td>0.760211</td>\n",
       "      <td>1.0</td>\n",
       "      <td>1.000000</td>\n",
       "      <td>1.000000</td>\n",
       "      <td>1.00000</td>\n",
       "      <td>1.000000</td>\n",
       "      <td>1.000000</td>\n",
       "      <td>1.000000</td>\n",
       "      <td>1.00000</td>\n",
       "      <td>2.000000</td>\n",
       "      <td>3.000000</td>\n",
       "      <td>3.000000</td>\n",
       "      <td>3.000000</td>\n",
       "      <td>3.000000</td>\n",
       "      <td>3.000000</td>\n",
       "      <td>3.000000</td>\n",
       "      <td>3.000000</td>\n",
       "      <td>3.0</td>\n",
       "    </tr>\n",
       "    <tr>\n",
       "      <th>Stay_In_Current_City_Years</th>\n",
       "      <td>550068.0</td>\n",
       "      <td>1.858418</td>\n",
       "      <td>1.289443</td>\n",
       "      <td>0.0</td>\n",
       "      <td>0.000000</td>\n",
       "      <td>0.000000</td>\n",
       "      <td>0.00000</td>\n",
       "      <td>0.000000</td>\n",
       "      <td>0.000000</td>\n",
       "      <td>0.000000</td>\n",
       "      <td>1.00000</td>\n",
       "      <td>2.000000</td>\n",
       "      <td>3.000000</td>\n",
       "      <td>4.000000</td>\n",
       "      <td>4.000000</td>\n",
       "      <td>4.000000</td>\n",
       "      <td>4.000000</td>\n",
       "      <td>4.000000</td>\n",
       "      <td>4.000000</td>\n",
       "      <td>4.0</td>\n",
       "    </tr>\n",
       "    <tr>\n",
       "      <th>Marital_Status</th>\n",
       "      <td>550068.0</td>\n",
       "      <td>0.409653</td>\n",
       "      <td>0.491770</td>\n",
       "      <td>0.0</td>\n",
       "      <td>0.000000</td>\n",
       "      <td>0.000000</td>\n",
       "      <td>0.00000</td>\n",
       "      <td>0.000000</td>\n",
       "      <td>0.000000</td>\n",
       "      <td>0.000000</td>\n",
       "      <td>0.00000</td>\n",
       "      <td>0.000000</td>\n",
       "      <td>1.000000</td>\n",
       "      <td>1.000000</td>\n",
       "      <td>1.000000</td>\n",
       "      <td>1.000000</td>\n",
       "      <td>1.000000</td>\n",
       "      <td>1.000000</td>\n",
       "      <td>1.000000</td>\n",
       "      <td>1.0</td>\n",
       "    </tr>\n",
       "    <tr>\n",
       "      <th>Product_Category_1</th>\n",
       "      <td>550068.0</td>\n",
       "      <td>5.404270</td>\n",
       "      <td>3.936211</td>\n",
       "      <td>1.0</td>\n",
       "      <td>1.000000</td>\n",
       "      <td>1.000000</td>\n",
       "      <td>1.00000</td>\n",
       "      <td>1.000000</td>\n",
       "      <td>1.000000</td>\n",
       "      <td>1.000000</td>\n",
       "      <td>1.00000</td>\n",
       "      <td>5.000000</td>\n",
       "      <td>8.000000</td>\n",
       "      <td>11.000000</td>\n",
       "      <td>13.000000</td>\n",
       "      <td>15.000000</td>\n",
       "      <td>16.000000</td>\n",
       "      <td>16.000000</td>\n",
       "      <td>18.000000</td>\n",
       "      <td>20.0</td>\n",
       "    </tr>\n",
       "    <tr>\n",
       "      <th>Product_Category_2</th>\n",
       "      <td>550068.0</td>\n",
       "      <td>6.735436</td>\n",
       "      <td>6.215492</td>\n",
       "      <td>0.0</td>\n",
       "      <td>0.000000</td>\n",
       "      <td>0.000000</td>\n",
       "      <td>0.00000</td>\n",
       "      <td>0.000000</td>\n",
       "      <td>0.000000</td>\n",
       "      <td>0.000000</td>\n",
       "      <td>0.00000</td>\n",
       "      <td>5.000000</td>\n",
       "      <td>14.000000</td>\n",
       "      <td>16.000000</td>\n",
       "      <td>16.000000</td>\n",
       "      <td>16.000000</td>\n",
       "      <td>16.000000</td>\n",
       "      <td>17.000000</td>\n",
       "      <td>17.000000</td>\n",
       "      <td>18.0</td>\n",
       "    </tr>\n",
       "    <tr>\n",
       "      <th>Product_Category_3</th>\n",
       "      <td>550068.0</td>\n",
       "      <td>3.841941</td>\n",
       "      <td>6.250712</td>\n",
       "      <td>0.0</td>\n",
       "      <td>0.000000</td>\n",
       "      <td>0.000000</td>\n",
       "      <td>0.00000</td>\n",
       "      <td>0.000000</td>\n",
       "      <td>0.000000</td>\n",
       "      <td>0.000000</td>\n",
       "      <td>0.00000</td>\n",
       "      <td>0.000000</td>\n",
       "      <td>8.000000</td>\n",
       "      <td>15.000000</td>\n",
       "      <td>16.000000</td>\n",
       "      <td>16.000000</td>\n",
       "      <td>17.000000</td>\n",
       "      <td>17.000000</td>\n",
       "      <td>17.000000</td>\n",
       "      <td>18.0</td>\n",
       "    </tr>\n",
       "    <tr>\n",
       "      <th>Purchase</th>\n",
       "      <td>550068.0</td>\n",
       "      <td>9263.968713</td>\n",
       "      <td>5023.065394</td>\n",
       "      <td>12.0</td>\n",
       "      <td>587.000000</td>\n",
       "      <td>954.000000</td>\n",
       "      <td>1574.00000</td>\n",
       "      <td>1789.000000</td>\n",
       "      <td>1984.000000</td>\n",
       "      <td>3540.000000</td>\n",
       "      <td>5823.00000</td>\n",
       "      <td>8047.000000</td>\n",
       "      <td>12054.000000</td>\n",
       "      <td>16317.000000</td>\n",
       "      <td>19336.000000</td>\n",
       "      <td>19480.000000</td>\n",
       "      <td>19628.000000</td>\n",
       "      <td>20202.660000</td>\n",
       "      <td>20665.000000</td>\n",
       "      <td>23961.0</td>\n",
       "    </tr>\n",
       "    <tr>\n",
       "      <th>product_popularity_score</th>\n",
       "      <td>550068.0</td>\n",
       "      <td>0.239211</td>\n",
       "      <td>0.193378</td>\n",
       "      <td>0.0</td>\n",
       "      <td>0.008515</td>\n",
       "      <td>0.012773</td>\n",
       "      <td>0.01703</td>\n",
       "      <td>0.021288</td>\n",
       "      <td>0.025546</td>\n",
       "      <td>0.044172</td>\n",
       "      <td>0.09207</td>\n",
       "      <td>0.189462</td>\n",
       "      <td>0.329431</td>\n",
       "      <td>0.509313</td>\n",
       "      <td>0.662586</td>\n",
       "      <td>0.717935</td>\n",
       "      <td>0.741352</td>\n",
       "      <td>0.764768</td>\n",
       "      <td>0.830761</td>\n",
       "      <td>1.0</td>\n",
       "    </tr>\n",
       "  </tbody>\n",
       "</table>\n",
       "</div>"
      ],
      "text/plain": [
       "                               count         mean          std   min  \\\n",
       "Gender                      550068.0     0.753105     0.431205   0.0   \n",
       "Age                         550068.0     3.496430     1.353632   1.0   \n",
       "Occupation                  550068.0     8.076707     6.522660   0.0   \n",
       "City_Category               550068.0     2.042640     0.760211   1.0   \n",
       "Stay_In_Current_City_Years  550068.0     1.858418     1.289443   0.0   \n",
       "Marital_Status              550068.0     0.409653     0.491770   0.0   \n",
       "Product_Category_1          550068.0     5.404270     3.936211   1.0   \n",
       "Product_Category_2          550068.0     6.735436     6.215492   0.0   \n",
       "Product_Category_3          550068.0     3.841941     6.250712   0.0   \n",
       "Purchase                    550068.0  9263.968713  5023.065394  12.0   \n",
       "product_popularity_score    550068.0     0.239211     0.193378   0.0   \n",
       "\n",
       "                                    1%          2%          3%           4%  \\\n",
       "Gender                        0.000000    0.000000     0.00000     0.000000   \n",
       "Age                           1.000000    1.000000     2.00000     2.000000   \n",
       "Occupation                    0.000000    0.000000     0.00000     0.000000   \n",
       "City_Category                 1.000000    1.000000     1.00000     1.000000   \n",
       "Stay_In_Current_City_Years    0.000000    0.000000     0.00000     0.000000   \n",
       "Marital_Status                0.000000    0.000000     0.00000     0.000000   \n",
       "Product_Category_1            1.000000    1.000000     1.00000     1.000000   \n",
       "Product_Category_2            0.000000    0.000000     0.00000     0.000000   \n",
       "Product_Category_3            0.000000    0.000000     0.00000     0.000000   \n",
       "Purchase                    587.000000  954.000000  1574.00000  1789.000000   \n",
       "product_popularity_score      0.008515    0.012773     0.01703     0.021288   \n",
       "\n",
       "                                     5%          10%         25%          50%  \\\n",
       "Gender                         0.000000     0.000000     1.00000     1.000000   \n",
       "Age                            2.000000     2.000000     3.00000     3.000000   \n",
       "Occupation                     0.000000     0.000000     2.00000     7.000000   \n",
       "City_Category                  1.000000     1.000000     1.00000     2.000000   \n",
       "Stay_In_Current_City_Years     0.000000     0.000000     1.00000     2.000000   \n",
       "Marital_Status                 0.000000     0.000000     0.00000     0.000000   \n",
       "Product_Category_1             1.000000     1.000000     1.00000     5.000000   \n",
       "Product_Category_2             0.000000     0.000000     0.00000     5.000000   \n",
       "Product_Category_3             0.000000     0.000000     0.00000     0.000000   \n",
       "Purchase                    1984.000000  3540.000000  5823.00000  8047.000000   \n",
       "product_popularity_score       0.025546     0.044172     0.09207     0.189462   \n",
       "\n",
       "                                     75%           90%           95%  \\\n",
       "Gender                          1.000000      1.000000      1.000000   \n",
       "Age                             4.000000      6.000000      6.000000   \n",
       "Occupation                     14.000000     17.000000     20.000000   \n",
       "City_Category                   3.000000      3.000000      3.000000   \n",
       "Stay_In_Current_City_Years      3.000000      4.000000      4.000000   \n",
       "Marital_Status                  1.000000      1.000000      1.000000   \n",
       "Product_Category_1              8.000000     11.000000     13.000000   \n",
       "Product_Category_2             14.000000     16.000000     16.000000   \n",
       "Product_Category_3              8.000000     15.000000     16.000000   \n",
       "Purchase                    12054.000000  16317.000000  19336.000000   \n",
       "product_popularity_score        0.329431      0.509313      0.662586   \n",
       "\n",
       "                                     96%           97%           98%  \\\n",
       "Gender                          1.000000      1.000000      1.000000   \n",
       "Age                             6.000000      7.000000      7.000000   \n",
       "Occupation                     20.000000     20.000000     20.000000   \n",
       "City_Category                   3.000000      3.000000      3.000000   \n",
       "Stay_In_Current_City_Years      4.000000      4.000000      4.000000   \n",
       "Marital_Status                  1.000000      1.000000      1.000000   \n",
       "Product_Category_1             15.000000     16.000000     16.000000   \n",
       "Product_Category_2             16.000000     16.000000     17.000000   \n",
       "Product_Category_3             16.000000     17.000000     17.000000   \n",
       "Purchase                    19480.000000  19628.000000  20202.660000   \n",
       "product_popularity_score        0.717935      0.741352      0.764768   \n",
       "\n",
       "                                     99%      max  \n",
       "Gender                          1.000000      1.0  \n",
       "Age                             7.000000      7.0  \n",
       "Occupation                     20.000000     20.0  \n",
       "City_Category                   3.000000      3.0  \n",
       "Stay_In_Current_City_Years      4.000000      4.0  \n",
       "Marital_Status                  1.000000      1.0  \n",
       "Product_Category_1             18.000000     20.0  \n",
       "Product_Category_2             17.000000     18.0  \n",
       "Product_Category_3             17.000000     18.0  \n",
       "Purchase                    20665.000000  23961.0  \n",
       "product_popularity_score        0.830761      1.0  "
      ]
     },
     "execution_count": 74,
     "metadata": {},
     "output_type": "execute_result"
    }
   ],
   "source": [
    "df.describe(percentiles=[0.01,0.02,0.03,0.04,0.05,0.1,.25,.75,.9, .95, .96, .97, .98, .99]).T"
   ]
  },
  {
   "cell_type": "code",
   "execution_count": 75,
   "id": "a12e8bef",
   "metadata": {},
   "outputs": [],
   "source": [
    "# therefore there are no outliers in this data"
   ]
  },
  {
   "cell_type": "code",
   "execution_count": 76,
   "id": "b77979ba",
   "metadata": {},
   "outputs": [
    {
     "name": "stdout",
     "output_type": "stream",
     "text": [
      "<class 'pandas.core.frame.DataFrame'>\n",
      "RangeIndex: 233599 entries, 0 to 233598\n",
      "Data columns (total 12 columns):\n",
      " #   Column                      Non-Null Count   Dtype  \n",
      "---  ------                      --------------   -----  \n",
      " 0   User_ID                     233599 non-null  int64  \n",
      " 1   Product_ID                  233599 non-null  object \n",
      " 2   Gender                      233599 non-null  int64  \n",
      " 3   Age                         233599 non-null  int64  \n",
      " 4   Occupation                  233599 non-null  int64  \n",
      " 5   City_Category               233599 non-null  int64  \n",
      " 6   Stay_In_Current_City_Years  233599 non-null  int64  \n",
      " 7   Marital_Status              233599 non-null  int64  \n",
      " 8   Product_Category_1          233599 non-null  int64  \n",
      " 9   Product_Category_2          233599 non-null  float64\n",
      " 10  Product_Category_3          233599 non-null  float64\n",
      " 11  product_popularity_score    233538 non-null  float64\n",
      "dtypes: float64(3), int64(8), object(1)\n",
      "memory usage: 21.4+ MB\n"
     ]
    }
   ],
   "source": [
    "x2.info()"
   ]
  },
  {
   "cell_type": "code",
   "execution_count": 117,
   "id": "f940246f",
   "metadata": {},
   "outputs": [],
   "source": [
    "# correlation "
   ]
  },
  {
   "cell_type": "code",
   "execution_count": 119,
   "id": "7fa9401f",
   "metadata": {},
   "outputs": [
    {
     "data": {
      "text/html": [
       "<div>\n",
       "<style scoped>\n",
       "    .dataframe tbody tr th:only-of-type {\n",
       "        vertical-align: middle;\n",
       "    }\n",
       "\n",
       "    .dataframe tbody tr th {\n",
       "        vertical-align: top;\n",
       "    }\n",
       "\n",
       "    .dataframe thead th {\n",
       "        text-align: right;\n",
       "    }\n",
       "</style>\n",
       "<table border=\"1\" class=\"dataframe\">\n",
       "  <thead>\n",
       "    <tr style=\"text-align: right;\">\n",
       "      <th></th>\n",
       "      <th>Gender</th>\n",
       "      <th>Age</th>\n",
       "      <th>Occupation</th>\n",
       "      <th>City_Category</th>\n",
       "      <th>Stay_In_Current_City_Years</th>\n",
       "      <th>Marital_Status</th>\n",
       "      <th>Product_Category_1</th>\n",
       "      <th>Product_Category_2</th>\n",
       "      <th>Product_Category_3</th>\n",
       "      <th>Purchase</th>\n",
       "      <th>product_popularity_score</th>\n",
       "    </tr>\n",
       "  </thead>\n",
       "  <tbody>\n",
       "    <tr>\n",
       "      <th>Gender</th>\n",
       "      <td>1.000000</td>\n",
       "      <td>-0.004262</td>\n",
       "      <td>0.117291</td>\n",
       "      <td>-0.004515</td>\n",
       "      <td>0.014660</td>\n",
       "      <td>-0.011603</td>\n",
       "      <td>-0.045594</td>\n",
       "      <td>-0.000954</td>\n",
       "      <td>0.036146</td>\n",
       "      <td>0.060346</td>\n",
       "      <td>0.020456</td>\n",
       "    </tr>\n",
       "    <tr>\n",
       "      <th>Age</th>\n",
       "      <td>-0.004262</td>\n",
       "      <td>1.000000</td>\n",
       "      <td>0.091463</td>\n",
       "      <td>0.123079</td>\n",
       "      <td>-0.004712</td>\n",
       "      <td>0.311738</td>\n",
       "      <td>0.061197</td>\n",
       "      <td>0.018770</td>\n",
       "      <td>-0.007422</td>\n",
       "      <td>0.015839</td>\n",
       "      <td>-0.020741</td>\n",
       "    </tr>\n",
       "    <tr>\n",
       "      <th>Occupation</th>\n",
       "      <td>0.117291</td>\n",
       "      <td>0.091463</td>\n",
       "      <td>1.000000</td>\n",
       "      <td>0.034479</td>\n",
       "      <td>0.030005</td>\n",
       "      <td>0.024280</td>\n",
       "      <td>-0.007618</td>\n",
       "      <td>0.006712</td>\n",
       "      <td>0.012269</td>\n",
       "      <td>0.020833</td>\n",
       "      <td>0.011679</td>\n",
       "    </tr>\n",
       "    <tr>\n",
       "      <th>City_Category</th>\n",
       "      <td>-0.004515</td>\n",
       "      <td>0.123079</td>\n",
       "      <td>0.034479</td>\n",
       "      <td>1.000000</td>\n",
       "      <td>0.019946</td>\n",
       "      <td>0.039790</td>\n",
       "      <td>-0.014364</td>\n",
       "      <td>0.016003</td>\n",
       "      <td>0.035525</td>\n",
       "      <td>0.061914</td>\n",
       "      <td>0.109546</td>\n",
       "    </tr>\n",
       "    <tr>\n",
       "      <th>Stay_In_Current_City_Years</th>\n",
       "      <td>0.014660</td>\n",
       "      <td>-0.004712</td>\n",
       "      <td>0.030005</td>\n",
       "      <td>0.019946</td>\n",
       "      <td>1.000000</td>\n",
       "      <td>-0.012819</td>\n",
       "      <td>-0.004213</td>\n",
       "      <td>0.001262</td>\n",
       "      <td>0.001977</td>\n",
       "      <td>0.005422</td>\n",
       "      <td>0.001470</td>\n",
       "    </tr>\n",
       "    <tr>\n",
       "      <th>Marital_Status</th>\n",
       "      <td>-0.011603</td>\n",
       "      <td>0.311738</td>\n",
       "      <td>0.024280</td>\n",
       "      <td>0.039790</td>\n",
       "      <td>-0.012819</td>\n",
       "      <td>1.000000</td>\n",
       "      <td>0.019888</td>\n",
       "      <td>0.001099</td>\n",
       "      <td>-0.004629</td>\n",
       "      <td>-0.000463</td>\n",
       "      <td>-0.010415</td>\n",
       "    </tr>\n",
       "    <tr>\n",
       "      <th>Product_Category_1</th>\n",
       "      <td>-0.045594</td>\n",
       "      <td>0.061197</td>\n",
       "      <td>-0.007618</td>\n",
       "      <td>-0.014364</td>\n",
       "      <td>-0.004213</td>\n",
       "      <td>0.019888</td>\n",
       "      <td>1.000000</td>\n",
       "      <td>-0.067877</td>\n",
       "      <td>-0.385534</td>\n",
       "      <td>-0.343703</td>\n",
       "      <td>-0.205178</td>\n",
       "    </tr>\n",
       "    <tr>\n",
       "      <th>Product_Category_2</th>\n",
       "      <td>-0.000954</td>\n",
       "      <td>0.018770</td>\n",
       "      <td>0.006712</td>\n",
       "      <td>0.016003</td>\n",
       "      <td>0.001262</td>\n",
       "      <td>0.001099</td>\n",
       "      <td>-0.067877</td>\n",
       "      <td>1.000000</td>\n",
       "      <td>0.094750</td>\n",
       "      <td>0.052288</td>\n",
       "      <td>0.098062</td>\n",
       "    </tr>\n",
       "    <tr>\n",
       "      <th>Product_Category_3</th>\n",
       "      <td>0.036146</td>\n",
       "      <td>-0.007422</td>\n",
       "      <td>0.012269</td>\n",
       "      <td>0.035525</td>\n",
       "      <td>0.001977</td>\n",
       "      <td>-0.004629</td>\n",
       "      <td>-0.385534</td>\n",
       "      <td>0.094750</td>\n",
       "      <td>1.000000</td>\n",
       "      <td>0.288501</td>\n",
       "      <td>0.262332</td>\n",
       "    </tr>\n",
       "    <tr>\n",
       "      <th>Purchase</th>\n",
       "      <td>0.060346</td>\n",
       "      <td>0.015839</td>\n",
       "      <td>0.020833</td>\n",
       "      <td>0.061914</td>\n",
       "      <td>0.005422</td>\n",
       "      <td>-0.000463</td>\n",
       "      <td>-0.343703</td>\n",
       "      <td>0.052288</td>\n",
       "      <td>0.288501</td>\n",
       "      <td>1.000000</td>\n",
       "      <td>0.308641</td>\n",
       "    </tr>\n",
       "    <tr>\n",
       "      <th>product_popularity_score</th>\n",
       "      <td>0.020456</td>\n",
       "      <td>-0.020741</td>\n",
       "      <td>0.011679</td>\n",
       "      <td>0.109546</td>\n",
       "      <td>0.001470</td>\n",
       "      <td>-0.010415</td>\n",
       "      <td>-0.205178</td>\n",
       "      <td>0.098062</td>\n",
       "      <td>0.262332</td>\n",
       "      <td>0.308641</td>\n",
       "      <td>1.000000</td>\n",
       "    </tr>\n",
       "  </tbody>\n",
       "</table>\n",
       "</div>"
      ],
      "text/plain": [
       "                              Gender       Age  Occupation  City_Category  \\\n",
       "Gender                      1.000000 -0.004262    0.117291      -0.004515   \n",
       "Age                        -0.004262  1.000000    0.091463       0.123079   \n",
       "Occupation                  0.117291  0.091463    1.000000       0.034479   \n",
       "City_Category              -0.004515  0.123079    0.034479       1.000000   \n",
       "Stay_In_Current_City_Years  0.014660 -0.004712    0.030005       0.019946   \n",
       "Marital_Status             -0.011603  0.311738    0.024280       0.039790   \n",
       "Product_Category_1         -0.045594  0.061197   -0.007618      -0.014364   \n",
       "Product_Category_2         -0.000954  0.018770    0.006712       0.016003   \n",
       "Product_Category_3          0.036146 -0.007422    0.012269       0.035525   \n",
       "Purchase                    0.060346  0.015839    0.020833       0.061914   \n",
       "product_popularity_score    0.020456 -0.020741    0.011679       0.109546   \n",
       "\n",
       "                            Stay_In_Current_City_Years  Marital_Status  \\\n",
       "Gender                                        0.014660       -0.011603   \n",
       "Age                                          -0.004712        0.311738   \n",
       "Occupation                                    0.030005        0.024280   \n",
       "City_Category                                 0.019946        0.039790   \n",
       "Stay_In_Current_City_Years                    1.000000       -0.012819   \n",
       "Marital_Status                               -0.012819        1.000000   \n",
       "Product_Category_1                           -0.004213        0.019888   \n",
       "Product_Category_2                            0.001262        0.001099   \n",
       "Product_Category_3                            0.001977       -0.004629   \n",
       "Purchase                                      0.005422       -0.000463   \n",
       "product_popularity_score                      0.001470       -0.010415   \n",
       "\n",
       "                            Product_Category_1  Product_Category_2  \\\n",
       "Gender                               -0.045594           -0.000954   \n",
       "Age                                   0.061197            0.018770   \n",
       "Occupation                           -0.007618            0.006712   \n",
       "City_Category                        -0.014364            0.016003   \n",
       "Stay_In_Current_City_Years           -0.004213            0.001262   \n",
       "Marital_Status                        0.019888            0.001099   \n",
       "Product_Category_1                    1.000000           -0.067877   \n",
       "Product_Category_2                   -0.067877            1.000000   \n",
       "Product_Category_3                   -0.385534            0.094750   \n",
       "Purchase                             -0.343703            0.052288   \n",
       "product_popularity_score             -0.205178            0.098062   \n",
       "\n",
       "                            Product_Category_3  Purchase  \\\n",
       "Gender                                0.036146  0.060346   \n",
       "Age                                  -0.007422  0.015839   \n",
       "Occupation                            0.012269  0.020833   \n",
       "City_Category                         0.035525  0.061914   \n",
       "Stay_In_Current_City_Years            0.001977  0.005422   \n",
       "Marital_Status                       -0.004629 -0.000463   \n",
       "Product_Category_1                   -0.385534 -0.343703   \n",
       "Product_Category_2                    0.094750  0.052288   \n",
       "Product_Category_3                    1.000000  0.288501   \n",
       "Purchase                              0.288501  1.000000   \n",
       "product_popularity_score              0.262332  0.308641   \n",
       "\n",
       "                            product_popularity_score  \n",
       "Gender                                      0.020456  \n",
       "Age                                        -0.020741  \n",
       "Occupation                                  0.011679  \n",
       "City_Category                               0.109546  \n",
       "Stay_In_Current_City_Years                  0.001470  \n",
       "Marital_Status                             -0.010415  \n",
       "Product_Category_1                         -0.205178  \n",
       "Product_Category_2                          0.098062  \n",
       "Product_Category_3                          0.262332  \n",
       "Purchase                                    0.308641  \n",
       "product_popularity_score                    1.000000  "
      ]
     },
     "execution_count": 119,
     "metadata": {},
     "output_type": "execute_result"
    }
   ],
   "source": [
    "correlation=df.corr()\n",
    "correlation"
   ]
  },
  {
   "cell_type": "code",
   "execution_count": 122,
   "id": "cfc44080",
   "metadata": {},
   "outputs": [
    {
     "data": {
      "image/png": "[encoded data removed]",
      "text/plain": [
       "<Figure size 900x700 with 2 Axes>"
      ]
     },
     "metadata": {},
     "output_type": "display_data"
    }
   ],
   "source": [
    "correlation=df.corr()\n",
    "mask = np.zeros_like(correlation)\n",
    "mask[np.triu_indices_from(mask)] = True\n",
    "with sns.axes_style(\"white\"):\n",
    "    f, ax = plt.subplots(figsize=(9, 7))\n",
    "    ax = sns.heatmap(correlation,mask=mask,square=True,annot=True,fmt='0.2f',linewidths=.8,cmap=\"hsv\")\n",
    "\n"
   ]
  },
  {
   "cell_type": "code",
   "execution_count": null,
   "id": "cf822c30",
   "metadata": {},
   "outputs": [],
   "source": []
  },
  {
   "cell_type": "markdown",
   "id": "361f0051",
   "metadata": {},
   "source": [
    "## modelling "
   ]
  },
  {
   "cell_type": "code",
   "execution_count": 78,
   "id": "2c690b2c",
   "metadata": {},
   "outputs": [],
   "source": [
    "X=df.drop(columns=[\"Purchase\"])\n",
    "y=df[\"Purchase\"]"
   ]
  },
  {
   "cell_type": "code",
   "execution_count": 79,
   "id": "21a60441",
   "metadata": {},
   "outputs": [],
   "source": [
    "X_train,X_test,y_train,y_test=train_test_split(X,y, test_size=0.2,random_state=89)"
   ]
  },
  {
   "cell_type": "markdown",
   "id": "4725caaf",
   "metadata": {},
   "source": [
    "## Decision tree"
   ]
  },
  {
   "cell_type": "code",
   "execution_count": 80,
   "id": "933bf102",
   "metadata": {},
   "outputs": [
    {
     "name": "stdout",
     "output_type": "stream",
     "text": [
      "Train accuracy: 0.6296593271304626\n",
      "Test accuracy: 0.6299010914112204\n"
     ]
    }
   ],
   "source": [
    "from sklearn.tree import DecisionTreeRegressor\n",
    "dtr=DecisionTreeRegressor\n",
    "dtr = DecisionTreeRegressor(max_depth=20,\n",
    "                            min_samples_split=10,\n",
    "                           max_leaf_nodes=10,\n",
    "                            min_samples_leaf=2,\n",
    "                            random_state=150)\n",
    "dtr.fit(X_train, y_train)\n",
    "print(\"Train accuracy:\", dtr.score(X_train, y_train))\n",
    "print(\"Test accuracy:\", dtr.score(X_test, y_test))\n"
   ]
  },
  {
   "cell_type": "code",
   "execution_count": null,
   "id": "5d1ecc87",
   "metadata": {},
   "outputs": [],
   "source": []
  },
  {
   "cell_type": "code",
   "execution_count": 81,
   "id": "1fbb0b1f",
   "metadata": {},
   "outputs": [
    {
     "name": "stdout",
     "output_type": "stream",
     "text": [
      "Train accuracy: 0.7054199118801225\n",
      "Test accuracy: 0.7005448813828294\n"
     ]
    }
   ],
   "source": [
    "from sklearn.tree import DecisionTreeRegressor\n",
    "dtr=DecisionTreeRegressor\n",
    "dtr = DecisionTreeRegressor(max_depth=12,\n",
    "                            min_samples_split=300,\n",
    "                            min_samples_leaf=10,\n",
    "                            random_state=150)\n",
    "dtr.fit(X_train, y_train)\n",
    "print(\"Train accuracy:\", dtr.score(X_train, y_train))\n",
    "\n",
    "print(\"Test accuracy:\", dtr.score(X_test, y_test))"
   ]
  },
  {
   "cell_type": "code",
   "execution_count": null,
   "id": "7b7580dc",
   "metadata": {},
   "outputs": [
    {
     "name": "stdout",
     "output_type": "stream",
     "text": [
      "Fitting 10 folds for each of 343 candidates, totalling 3430 fits\n"
     ]
    }
   ],
   "source": [
    "from sklearn.model_selection import GridSearchCV\n",
    "\n",
    "parameters = { \n",
    "              'min_samples_split':[10,50,100,150,200,250,300], \n",
    "              'max_depth':[4,6,8,9,10,11,12],\n",
    "              \"min_samples_leaf\":[2,5,10,15,20,30,50]\n",
    "     \n",
    "             }\n",
    "\n",
    "dtr = DecisionTreeRegressor(random_state=89)\n",
    "\n",
    "gsearch = GridSearchCV(dtr, param_grid=parameters, cv=10, verbose=1, n_jobs=-1)\n",
    "\n",
    "gsearch.fit(X_train, y_train)"
   ]
  },
  {
   "cell_type": "code",
   "execution_count": null,
   "id": "93517617",
   "metadata": {},
   "outputs": [],
   "source": [
    "gsearch.best_params_"
   ]
  },
  {
   "cell_type": "code",
   "execution_count": null,
   "id": "a7c747c7",
   "metadata": {},
   "outputs": [],
   "source": [
    "gsearch.best_score_"
   ]
  },
  {
   "cell_type": "code",
   "execution_count": 82,
   "id": "c7d6a91e",
   "metadata": {},
   "outputs": [
    {
     "name": "stdout",
     "output_type": "stream",
     "text": [
      "Train accuracy: 0.7152816965234976\n",
      "Test accuracy: 0.7085016131509781\n"
     ]
    }
   ],
   "source": [
    "from sklearn.tree import DecisionTreeRegressor\n",
    "dtr=DecisionTreeRegressor\n",
    "dtr = DecisionTreeRegressor(max_depth=30,\n",
    "                            min_samples_split=450,\n",
    "                            min_samples_leaf=10,\n",
    "                            random_state=89)\n",
    "dtr.fit(X_train, y_train)\n",
    "print(\"Train accuracy:\", dtr.score(X_train, y_train))\n",
    "\n",
    "print(\"Test accuracy:\", dtr.score(X_test, y_test))"
   ]
  },
  {
   "cell_type": "code",
   "execution_count": 83,
   "id": "cdddb285",
   "metadata": {},
   "outputs": [
    {
     "data": {
      "text/plain": [
       "array([9.97946654e-04, 2.92128666e-03, 1.72505256e-03, 1.76080952e-03,\n",
       "       3.85792812e-04, 6.11183999e-05, 8.83358573e-01, 1.12211778e-02,\n",
       "       9.46550015e-03, 8.81027424e-02])"
      ]
     },
     "execution_count": 83,
     "metadata": {},
     "output_type": "execute_result"
    }
   ],
   "source": [
    "dtr.feature_importances_"
   ]
  },
  {
   "cell_type": "code",
   "execution_count": 84,
   "id": "ac853b7f",
   "metadata": {},
   "outputs": [],
   "source": [
    "impt=pd.DataFrame({\"variables\":X_train.columns, \"imp\":dtr.feature_importances_}).sort_values(by=\"imp\", ascending=False)"
   ]
  },
  {
   "cell_type": "code",
   "execution_count": 85,
   "id": "0282352b",
   "metadata": {},
   "outputs": [
    {
     "data": {
      "text/html": [
       "<div>\n",
       "<style scoped>\n",
       "    .dataframe tbody tr th:only-of-type {\n",
       "        vertical-align: middle;\n",
       "    }\n",
       "\n",
       "    .dataframe tbody tr th {\n",
       "        vertical-align: top;\n",
       "    }\n",
       "\n",
       "    .dataframe thead th {\n",
       "        text-align: right;\n",
       "    }\n",
       "</style>\n",
       "<table border=\"1\" class=\"dataframe\">\n",
       "  <thead>\n",
       "    <tr style=\"text-align: right;\">\n",
       "      <th></th>\n",
       "      <th>variables</th>\n",
       "      <th>imp</th>\n",
       "    </tr>\n",
       "  </thead>\n",
       "  <tbody>\n",
       "    <tr>\n",
       "      <th>6</th>\n",
       "      <td>Product_Category_1</td>\n",
       "      <td>0.883359</td>\n",
       "    </tr>\n",
       "    <tr>\n",
       "      <th>9</th>\n",
       "      <td>product_popularity_score</td>\n",
       "      <td>0.088103</td>\n",
       "    </tr>\n",
       "    <tr>\n",
       "      <th>7</th>\n",
       "      <td>Product_Category_2</td>\n",
       "      <td>0.011221</td>\n",
       "    </tr>\n",
       "    <tr>\n",
       "      <th>8</th>\n",
       "      <td>Product_Category_3</td>\n",
       "      <td>0.009466</td>\n",
       "    </tr>\n",
       "    <tr>\n",
       "      <th>1</th>\n",
       "      <td>Age</td>\n",
       "      <td>0.002921</td>\n",
       "    </tr>\n",
       "    <tr>\n",
       "      <th>3</th>\n",
       "      <td>City_Category</td>\n",
       "      <td>0.001761</td>\n",
       "    </tr>\n",
       "    <tr>\n",
       "      <th>2</th>\n",
       "      <td>Occupation</td>\n",
       "      <td>0.001725</td>\n",
       "    </tr>\n",
       "    <tr>\n",
       "      <th>0</th>\n",
       "      <td>Gender</td>\n",
       "      <td>0.000998</td>\n",
       "    </tr>\n",
       "    <tr>\n",
       "      <th>4</th>\n",
       "      <td>Stay_In_Current_City_Years</td>\n",
       "      <td>0.000386</td>\n",
       "    </tr>\n",
       "    <tr>\n",
       "      <th>5</th>\n",
       "      <td>Marital_Status</td>\n",
       "      <td>0.000061</td>\n",
       "    </tr>\n",
       "  </tbody>\n",
       "</table>\n",
       "</div>"
      ],
      "text/plain": [
       "                    variables       imp\n",
       "6          Product_Category_1  0.883359\n",
       "9    product_popularity_score  0.088103\n",
       "7          Product_Category_2  0.011221\n",
       "8          Product_Category_3  0.009466\n",
       "1                         Age  0.002921\n",
       "3               City_Category  0.001761\n",
       "2                  Occupation  0.001725\n",
       "0                      Gender  0.000998\n",
       "4  Stay_In_Current_City_Years  0.000386\n",
       "5              Marital_Status  0.000061"
      ]
     },
     "execution_count": 85,
     "metadata": {},
     "output_type": "execute_result"
    }
   ],
   "source": [
    "impt"
   ]
  },
  {
   "cell_type": "code",
   "execution_count": 86,
   "id": "d6e5623d",
   "metadata": {},
   "outputs": [],
   "source": [
    "selected_var=[\"Product_Category_1\",\"Product_Category_2\",\"Product_Category_3\",\"product_popularity_score\"]"
   ]
  },
  {
   "cell_type": "code",
   "execution_count": 87,
   "id": "5a6197a6",
   "metadata": {},
   "outputs": [],
   "source": [
    "X_train1=X_train[selected_var]\n",
    "X_test1=X_test[selected_var]"
   ]
  },
  {
   "cell_type": "code",
   "execution_count": 88,
   "id": "9c9ea329",
   "metadata": {},
   "outputs": [
    {
     "name": "stdout",
     "output_type": "stream",
     "text": [
      "Train accuracy: 0.714640043695898\n",
      "Test accuracy: 0.7129630818745173\n"
     ]
    }
   ],
   "source": [
    "dtr = DecisionTreeRegressor(max_depth=30,\n",
    "                            min_samples_split=450,\n",
    "                            min_samples_leaf=10,\n",
    "                            random_state=89)\n",
    "dtr.fit(X_train1, y_train)\n",
    "print(\"Train accuracy:\", dtr.score(X_train1, y_train))\n",
    "\n",
    "print(\"Test accuracy:\", dtr.score(X_test1, y_test))"
   ]
  },
  {
   "cell_type": "markdown",
   "id": "c3b32065",
   "metadata": {},
   "source": [
    "## random forest "
   ]
  },
  {
   "cell_type": "code",
   "execution_count": 89,
   "id": "bb55830e",
   "metadata": {},
   "outputs": [],
   "source": [
    "X_train, X_test, y_train, y_test=train_test_split(X,y, test_size=0.2, random_state=0)"
   ]
  },
  {
   "cell_type": "code",
   "execution_count": 90,
   "id": "f0fb9e9e",
   "metadata": {},
   "outputs": [],
   "source": [
    "from sklearn.ensemble import RandomForestRegressor"
   ]
  },
  {
   "cell_type": "code",
   "execution_count": 91,
   "id": "f8f7ae6d",
   "metadata": {},
   "outputs": [],
   "source": [
    "rf1=RandomForestRegressor()"
   ]
  },
  {
   "cell_type": "code",
   "execution_count": 92,
   "id": "c9d2aa10",
   "metadata": {},
   "outputs": [
    {
     "name": "stdout",
     "output_type": "stream",
     "text": [
      "Train Accuracy : 0.93064788657541\n",
      "Test Accuracy : 0.6766498532714869\n"
     ]
    }
   ],
   "source": [
    "rf1.fit(X_train, y_train)\n",
    "print(\"Train Accuracy :\", rf1.score(X_train,y_train))\n",
    "print(\"Test Accuracy :\", rf1.score(X_test,y_test))"
   ]
  },
  {
   "cell_type": "code",
   "execution_count": 94,
   "id": "90b44b6c",
   "metadata": {},
   "outputs": [
    {
     "name": "stdout",
     "output_type": "stream",
     "text": [
      "Train accuracy: 0.7117624762007035\n",
      "Test accuracy: 0.7118720166019274\n"
     ]
    }
   ],
   "source": [
    "rf2 = RandomForestRegressor(max_depth=90,\n",
    "    min_samples_split=650,\n",
    "    min_samples_leaf=12,\n",
    "    random_state=89)\n",
    "rf2.fit(X_train, y_train)\n",
    "print(\"Train accuracy:\", rf2.score(X_train, y_train))\n",
    "\n",
    "print(\"Test accuracy:\", rf2.score(X_test, y_test))\n"
   ]
  },
  {
   "cell_type": "markdown",
   "id": "debd7754",
   "metadata": {},
   "source": [
    "## xgboost"
   ]
  },
  {
   "cell_type": "code",
   "execution_count": 104,
   "id": "d566157e",
   "metadata": {},
   "outputs": [],
   "source": [
    "from xgboost import XGBRegressor\n",
    "xgb = XGBRegressor(random_state = 89)\n"
   ]
  },
  {
   "cell_type": "code",
   "execution_count": 108,
   "id": "22e5d4ad",
   "metadata": {},
   "outputs": [],
   "source": [
    "X_train,X_test,y_train,y_test=train_test_split(X,y, test_size=0.2, random_state=89)"
   ]
  },
  {
   "cell_type": "code",
   "execution_count": 109,
   "id": "0e6442a1",
   "metadata": {},
   "outputs": [
    {
     "data": {
      "text/plain": [
       "XGBRegressor(base_score=0.5, booster='gbtree', colsample_bylevel=1,\n",
       "             colsample_bynode=1, colsample_bytree=1, enable_categorical=False,\n",
       "             gamma=0, gpu_id=-1, importance_type=None,\n",
       "             interaction_constraints='', learning_rate=0.300000012,\n",
       "             max_delta_step=0, max_depth=6, min_child_weight=1, missing=nan,\n",
       "             monotone_constraints='()', n_estimators=100, n_jobs=4,\n",
       "             num_parallel_tree=1, predictor='auto', random_state=89,\n",
       "             reg_alpha=0, reg_lambda=1, scale_pos_weight=1, subsample=1,\n",
       "             tree_method='exact', validate_parameters=1, verbosity=None)"
      ]
     },
     "execution_count": 109,
     "metadata": {},
     "output_type": "execute_result"
    }
   ],
   "source": [
    "xgb.fit(X_train,y_train)"
   ]
  },
  {
   "cell_type": "code",
   "execution_count": 110,
   "id": "1365592c",
   "metadata": {},
   "outputs": [
    {
     "name": "stdout",
     "output_type": "stream",
     "text": [
      "Train Accuracy : 0.7274428991170768\n",
      "Test Accuracy : 0.7198941781528722\n"
     ]
    }
   ],
   "source": [
    "print(\"Train Accuracy :\", xgb.score(X_train,y_train))\n",
    "print(\"Test Accuracy :\", xgb.score(X_test,y_test))"
   ]
  },
  {
   "cell_type": "markdown",
   "id": "87ea0719",
   "metadata": {},
   "source": [
    "## predictions "
   ]
  },
  {
   "cell_type": "code",
   "execution_count": 111,
   "id": "ce7084ac",
   "metadata": {},
   "outputs": [
    {
     "data": {
      "text/plain": [
       "Index(['Gender', 'Age', 'Occupation', 'City_Category',\n",
       "       'Stay_In_Current_City_Years', 'Marital_Status', 'Product_Category_1',\n",
       "       'Product_Category_2', 'Product_Category_3', 'product_popularity_score'],\n",
       "      dtype='object')"
      ]
     },
     "execution_count": 111,
     "metadata": {},
     "output_type": "execute_result"
    }
   ],
   "source": [
    "X_train.columns"
   ]
  },
  {
   "cell_type": "code",
   "execution_count": 112,
   "id": "1cd37e32",
   "metadata": {},
   "outputs": [],
   "source": [
    "X_test1=X_test.copy()"
   ]
  },
  {
   "cell_type": "code",
   "execution_count": 113,
   "id": "0fc9e3a4",
   "metadata": {},
   "outputs": [],
   "source": [
    "X_test1[\"Predicted_Purchase\"]=xgb.predict(X_test1)"
   ]
  },
  {
   "cell_type": "code",
   "execution_count": 114,
   "id": "6961e9e4",
   "metadata": {},
   "outputs": [
    {
     "data": {
      "text/html": [
       "<div>\n",
       "<style scoped>\n",
       "    .dataframe tbody tr th:only-of-type {\n",
       "        vertical-align: middle;\n",
       "    }\n",
       "\n",
       "    .dataframe tbody tr th {\n",
       "        vertical-align: top;\n",
       "    }\n",
       "\n",
       "    .dataframe thead th {\n",
       "        text-align: right;\n",
       "    }\n",
       "</style>\n",
       "<table border=\"1\" class=\"dataframe\">\n",
       "  <thead>\n",
       "    <tr style=\"text-align: right;\">\n",
       "      <th></th>\n",
       "      <th>Gender</th>\n",
       "      <th>Age</th>\n",
       "      <th>Occupation</th>\n",
       "      <th>City_Category</th>\n",
       "      <th>Stay_In_Current_City_Years</th>\n",
       "      <th>Marital_Status</th>\n",
       "      <th>Product_Category_1</th>\n",
       "      <th>Product_Category_2</th>\n",
       "      <th>Product_Category_3</th>\n",
       "      <th>product_popularity_score</th>\n",
       "      <th>Predicted_Purchase</th>\n",
       "    </tr>\n",
       "  </thead>\n",
       "  <tbody>\n",
       "    <tr>\n",
       "      <th>406268</th>\n",
       "      <td>1</td>\n",
       "      <td>2</td>\n",
       "      <td>11</td>\n",
       "      <td>1</td>\n",
       "      <td>1</td>\n",
       "      <td>0</td>\n",
       "      <td>1</td>\n",
       "      <td>2.0</td>\n",
       "      <td>8.0</td>\n",
       "      <td>0.857371</td>\n",
       "      <td>17480.490234</td>\n",
       "    </tr>\n",
       "    <tr>\n",
       "      <th>112701</th>\n",
       "      <td>1</td>\n",
       "      <td>1</td>\n",
       "      <td>0</td>\n",
       "      <td>3</td>\n",
       "      <td>1</td>\n",
       "      <td>0</td>\n",
       "      <td>1</td>\n",
       "      <td>2.0</td>\n",
       "      <td>0.0</td>\n",
       "      <td>0.135178</td>\n",
       "      <td>13028.150391</td>\n",
       "    </tr>\n",
       "    <tr>\n",
       "      <th>110177</th>\n",
       "      <td>1</td>\n",
       "      <td>4</td>\n",
       "      <td>0</td>\n",
       "      <td>3</td>\n",
       "      <td>2</td>\n",
       "      <td>0</td>\n",
       "      <td>15</td>\n",
       "      <td>0.0</td>\n",
       "      <td>0.0</td>\n",
       "      <td>0.023949</td>\n",
       "      <td>14813.249023</td>\n",
       "    </tr>\n",
       "    <tr>\n",
       "      <th>511109</th>\n",
       "      <td>1</td>\n",
       "      <td>7</td>\n",
       "      <td>15</td>\n",
       "      <td>1</td>\n",
       "      <td>4</td>\n",
       "      <td>1</td>\n",
       "      <td>1</td>\n",
       "      <td>8.0</td>\n",
       "      <td>17.0</td>\n",
       "      <td>0.238957</td>\n",
       "      <td>12645.113281</td>\n",
       "    </tr>\n",
       "    <tr>\n",
       "      <th>447522</th>\n",
       "      <td>1</td>\n",
       "      <td>4</td>\n",
       "      <td>12</td>\n",
       "      <td>2</td>\n",
       "      <td>1</td>\n",
       "      <td>1</td>\n",
       "      <td>5</td>\n",
       "      <td>11.0</td>\n",
       "      <td>12.0</td>\n",
       "      <td>0.271953</td>\n",
       "      <td>5803.774414</td>\n",
       "    </tr>\n",
       "    <tr>\n",
       "      <th>...</th>\n",
       "      <td>...</td>\n",
       "      <td>...</td>\n",
       "      <td>...</td>\n",
       "      <td>...</td>\n",
       "      <td>...</td>\n",
       "      <td>...</td>\n",
       "      <td>...</td>\n",
       "      <td>...</td>\n",
       "      <td>...</td>\n",
       "      <td>...</td>\n",
       "      <td>...</td>\n",
       "    </tr>\n",
       "    <tr>\n",
       "      <th>269626</th>\n",
       "      <td>1</td>\n",
       "      <td>1</td>\n",
       "      <td>10</td>\n",
       "      <td>2</td>\n",
       "      <td>2</td>\n",
       "      <td>0</td>\n",
       "      <td>8</td>\n",
       "      <td>17.0</td>\n",
       "      <td>0.0</td>\n",
       "      <td>0.100053</td>\n",
       "      <td>5984.529785</td>\n",
       "    </tr>\n",
       "    <tr>\n",
       "      <th>378362</th>\n",
       "      <td>1</td>\n",
       "      <td>3</td>\n",
       "      <td>7</td>\n",
       "      <td>1</td>\n",
       "      <td>2</td>\n",
       "      <td>0</td>\n",
       "      <td>5</td>\n",
       "      <td>9.0</td>\n",
       "      <td>0.0</td>\n",
       "      <td>0.444385</td>\n",
       "      <td>6138.239258</td>\n",
       "    </tr>\n",
       "    <tr>\n",
       "      <th>282234</th>\n",
       "      <td>1</td>\n",
       "      <td>2</td>\n",
       "      <td>4</td>\n",
       "      <td>1</td>\n",
       "      <td>1</td>\n",
       "      <td>1</td>\n",
       "      <td>8</td>\n",
       "      <td>0.0</td>\n",
       "      <td>0.0</td>\n",
       "      <td>0.005854</td>\n",
       "      <td>5877.528320</td>\n",
       "    </tr>\n",
       "    <tr>\n",
       "      <th>528019</th>\n",
       "      <td>1</td>\n",
       "      <td>4</td>\n",
       "      <td>7</td>\n",
       "      <td>2</td>\n",
       "      <td>4</td>\n",
       "      <td>0</td>\n",
       "      <td>8</td>\n",
       "      <td>0.0</td>\n",
       "      <td>0.0</td>\n",
       "      <td>0.075572</td>\n",
       "      <td>7448.556152</td>\n",
       "    </tr>\n",
       "    <tr>\n",
       "      <th>217112</th>\n",
       "      <td>1</td>\n",
       "      <td>3</td>\n",
       "      <td>0</td>\n",
       "      <td>2</td>\n",
       "      <td>3</td>\n",
       "      <td>0</td>\n",
       "      <td>3</td>\n",
       "      <td>4.0</td>\n",
       "      <td>12.0</td>\n",
       "      <td>0.138904</td>\n",
       "      <td>9426.742188</td>\n",
       "    </tr>\n",
       "  </tbody>\n",
       "</table>\n",
       "<p>110014 rows × 11 columns</p>\n",
       "</div>"
      ],
      "text/plain": [
       "        Gender  Age  Occupation  City_Category  Stay_In_Current_City_Years  \\\n",
       "406268       1    2          11              1                           1   \n",
       "112701       1    1           0              3                           1   \n",
       "110177       1    4           0              3                           2   \n",
       "511109       1    7          15              1                           4   \n",
       "447522       1    4          12              2                           1   \n",
       "...        ...  ...         ...            ...                         ...   \n",
       "269626       1    1          10              2                           2   \n",
       "378362       1    3           7              1                           2   \n",
       "282234       1    2           4              1                           1   \n",
       "528019       1    4           7              2                           4   \n",
       "217112       1    3           0              2                           3   \n",
       "\n",
       "        Marital_Status  Product_Category_1  Product_Category_2  \\\n",
       "406268               0                   1                 2.0   \n",
       "112701               0                   1                 2.0   \n",
       "110177               0                  15                 0.0   \n",
       "511109               1                   1                 8.0   \n",
       "447522               1                   5                11.0   \n",
       "...                ...                 ...                 ...   \n",
       "269626               0                   8                17.0   \n",
       "378362               0                   5                 9.0   \n",
       "282234               1                   8                 0.0   \n",
       "528019               0                   8                 0.0   \n",
       "217112               0                   3                 4.0   \n",
       "\n",
       "        Product_Category_3  product_popularity_score  Predicted_Purchase  \n",
       "406268                 8.0                  0.857371        17480.490234  \n",
       "112701                 0.0                  0.135178        13028.150391  \n",
       "110177                 0.0                  0.023949        14813.249023  \n",
       "511109                17.0                  0.238957        12645.113281  \n",
       "447522                12.0                  0.271953         5803.774414  \n",
       "...                    ...                       ...                 ...  \n",
       "269626                 0.0                  0.100053         5984.529785  \n",
       "378362                 0.0                  0.444385         6138.239258  \n",
       "282234                 0.0                  0.005854         5877.528320  \n",
       "528019                 0.0                  0.075572         7448.556152  \n",
       "217112                12.0                  0.138904         9426.742188  \n",
       "\n",
       "[110014 rows x 11 columns]"
      ]
     },
     "execution_count": 114,
     "metadata": {},
     "output_type": "execute_result"
    }
   ],
   "source": [
    "X_test1"
   ]
  },
  {
   "cell_type": "code",
   "execution_count": 116,
   "id": "3bc34093",
   "metadata": {},
   "outputs": [],
   "source": [
    "X_test1.to_csv(\"purchase_prediction.csv\")"
   ]
  },
  {
   "cell_type": "code",
   "execution_count": null,
   "id": "0b5759d9",
   "metadata": {},
   "outputs": [],
   "source": []
  },
  {
   "cell_type": "code",
   "execution_count": null,
   "id": "aea4b784",
   "metadata": {},
   "outputs": [],
   "source": []
  },
  {
   "cell_type": "code",
   "execution_count": null,
   "id": "20b85472",
   "metadata": {},
   "outputs": [],
   "source": []
  },
  {
   "cell_type": "code",
   "execution_count": null,
   "id": "62d11401",
   "metadata": {},
   "outputs": [],
   "source": []
  },
  {
   "cell_type": "code",
   "execution_count": null,
   "id": "a7212363",
   "metadata": {},
   "outputs": [],
   "source": []
  },
  {
   "cell_type": "code",
   "execution_count": null,
   "id": "e0e071cd",
   "metadata": {},
   "outputs": [],
   "source": []
  },
  {
   "cell_type": "code",
   "execution_count": null,
   "id": "2a5dee0a",
   "metadata": {},
   "outputs": [],
   "source": []
  }
 ],
 "metadata": {
  "kernelspec": {
   "display_name": "Python 3",
   "language": "python",
   "name": "python3"
  },
  "language_info": {
   "codemirror_mode": {
    "name": "ipython",
    "version": 3
   },
   "file_extension": ".py",
   "mimetype": "text/x-python",
   "name": "python",
   "nbconvert_exporter": "python",
   "pygments_lexer": "ipython3",
   "version": "3.8.8"
  }
 },
 "nbformat": 4,
 "nbformat_minor": 5
}
